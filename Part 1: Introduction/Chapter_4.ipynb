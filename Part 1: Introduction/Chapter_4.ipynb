{
 "cells": [
  {
   "cell_type": "markdown",
   "metadata": {},
   "source": [
    "# The Meaning of Interest Rates\n",
    "\n",
    "## Question\n",
    "\n",
    "1. Would \\\\$175, to be received in exactly one year, be worth more to you today when the interest rate is 15% or when it is 20%?\n",
    "\n",
    "    PV = CF / (1 + i), 15% will worth more.\n",
    "    \n",
    "    PV = today's price value\n",
    "    \n",
    "    CF = cash flow\n",
    "    \n",
    "    i = interest rate"
   ]
  },
  {
   "cell_type": "code",
   "execution_count": 1,
   "metadata": {},
   "outputs": [
    {
     "data": {
      "text/plain": [
       "152.17391304347828"
      ]
     },
     "execution_count": 1,
     "metadata": {},
     "output_type": "execute_result"
    }
   ],
   "source": [
    "175 / (1 + 0.15)"
   ]
  },
  {
   "cell_type": "code",
   "execution_count": 2,
   "metadata": {},
   "outputs": [
    {
     "data": {
      "text/plain": [
       "145.83333333333334"
      ]
     },
     "execution_count": 2,
     "metadata": {},
     "output_type": "execute_result"
    }
   ],
   "source": [
    "175 / (1 + 0.2)"
   ]
  },
  {
   "cell_type": "markdown",
   "metadata": {},
   "source": [
    "2. Write down the formula that is used to calculate the yield to maturity on a twenty-year 12% coupon bond with a \\\\$1,000 face value that sells for \\\\$2,500.\n",
    "\n",
    "    2500 = 120/(1 + i) + 120/(1 + i)^2 + ... + 120/(1 + i)^20 + 1000/(1 + i)^20\n",
    "    \n",
    "3. To help pay for college, you have just taken out a \\\\$1,000 government loan that makes you pay \\\\$126 per year for 25 years. However, you don’t have to start making these payments until you graduate from college two years from now. Why is the yield to maturity necessarily less than 12%? (This is the yield to maturity on a normal \\\\$1,000 fixed-payment loan on which you pay \\\\$126 per year for 25 years.)\n",
    "\n",
    "    Since you don't pay the loan right after you taking the loan, the yield to maturity must be lower than 12% to make up the price of the loan.\n",
    "    \n",
    "4. Do bondholders fare better when the yield to maturity increases or when it decreases? Why?\n",
    "\n",
    "    The yield to maturity decrease means the price of the bound increases.\n",
    "    \n",
    "5. A financial adviser has just given you the following advice: “Long-term bonds are a great investment because their interest rate is over 20%.” Is the financial adviser necessarily right?\n",
    "\n",
    "    If interest rate increases sharply in the future, the price of long-term bonds will fail sharply.\n",
    "    \n",
    "6. If mortgage rates rise from 5% to 10% but the expected rate of increase in housing prices rises from 2% to 9%, are people more or less likely to buy houses?\n",
    "\n",
    "    The real interest rates fall from 3%(5% - 2%) to 1%(10% - 9%), people are more likely to buy houses.\n",
    "    \n",
    "7. When is the current yield a good approximation of the yield to maturity?\n",
    "\n",
    "    When a coupon bond has a long term to maturity (say, twenty years or more), it is very much like a perpetuity, which pays coupon payments forever. This is because the cash flows more than twenty years in the future have such small present discounted values that the value of a long-term coupon bond is very close to the value of a perpetuity with the same coupon rate.(from page 120)\n",
    "    \n",
    "8. Why would a government choose to issue a perpetuity, which requires payments forever, instead of a terminal loan, such as a fixed-payment loan, discount bond, or coupon bond?\n",
    "\n",
    "    The government desides when to redeem them. The first British Consols were issued in 1751, and they were redeemed at 2015. https://en.wikipedia.org/wiki/Consol_(bond) https://en.wikipedia.org/wiki/Perpetuity\n",
    "    \n",
    "9. Under what conditions will a discount bond have a negative nominal interest rate? Is it possible for a coupon bond or a perpetuity to have a negative nominal interest rate?\n",
    "\n",
    "    Discount bond: PV = CF / (1 + i)^n, when present value is higher then cash flow.\n",
    "    \n",
    "    Coupon bond: one year maturity, P = (C + F)/(1 + i), when yearly conpon payment plus face value (C + F) is lower then the bond price(P).\n",
    "    \n",
    "    Perpetuity: Pc(price of the perpetuity) = C(yearly payment) / ic(yield to maturity of the perpetuity), no way.\n",
    "    \n",
    "10. True or False: With a discount bond, the return on the bond is equal to the rate of capital gain.\n",
    "\n",
    "    R = ic(current yield) + g(rate of capital gain). Discount bond doesn't have coupon payment, so it's true.\n",
    "    \n",
    "11. If interest rates decline, which would you rather be holding, long-term bonds or short-term bonds? Why? Which type of bond has the greater interest-rate risk?\n",
    "\n",
    "    PV = CF / (1 + i)^n, long-term bond price will increase more but has greater interest-rate risk.\n",
    "    \n",
    "    Th result of equation 3 is the present value, that's the value when you brought the bond. In order to caculate the price of the bond at the second year, we need to minus one year then apply it to the equation."
   ]
  },
  {
   "cell_type": "code",
   "execution_count": 8,
   "metadata": {},
   "outputs": [
    {
     "name": "stdout",
     "output_type": "stream",
     "text": [
      "1000.0\n",
      "741.1265432098766\n",
      "502.5276321398524\n"
     ]
    }
   ],
   "source": [
    "def next_year_value(face_value, years_to_maturity, coupone_rate, interest_rate):\n",
    "    price = 0\n",
    "    years_to_maturity -= 1\n",
    "    # implement equation 3(page 117)\n",
    "    for i in range(1, years_to_maturity + 1):\n",
    "        price += ((face_value * coupone_rate) / ((1 + interest_rate) ** i))\n",
    "    price += (face_value / ((1 + interest_rate) ** years_to_maturity))\n",
    "    return price\n",
    "# calculate table 2 at page 123\n",
    "print(next_year_value(1000, 1, 0.1, 0.2))\n",
    "print(next_year_value(1000, 30, 0.1, 0.2))"
   ]
  },
  {
   "cell_type": "markdown",
   "metadata": {},
   "source": [
    "12. Interest rates were lower in the mid-1980s than in the late 1970s, yet many economists have commented that real interest rates were actually much higher in the mid-1980s than in the late 1970s. Does this make sense? Do you think that these economists are right?\n",
    "\n",
    "    ![Inflation, consumer prices for the United States (FPCPITOTLZGUSA)](https://fred.stlouisfed.org/graph/fredgraph.png?g=lXs0)\n",
    "    \n",
    "    Inflation rate was lower in the mid-1980s. r(real interest rate) = i(nominal interest rate) - π^e(inflation rate), they are right.\n",
    "    \n",
    "    \n",
    "13. Retired persons often have much of their wealth placed in savings accounts and other interest-bearing investments, and complain whenever interest rates are low. Do they have a valid complaint?\n",
    "\n",
    "    \"When the interest rates are lower then the inflation rate, you will comlain too.\" --grandpa\n",
    "    \n",
    "## Applied problems\n",
    "\n",
    "14. If the interest rate is 15%, what is the present value of a security that pays you \\\\$1,100 next year, \\\\$1,250 the year after, and \\\\$1,347 the year after that?"
   ]
  },
  {
   "cell_type": "code",
   "execution_count": 6,
   "metadata": {},
   "outputs": [
    {
     "data": {
      "text/plain": [
       "2787.375688337306"
      ]
     },
     "execution_count": 6,
     "metadata": {},
     "output_type": "execute_result"
    }
   ],
   "source": [
    "1100 / (1 + 0.15) + 1250 / ((1 + 0.15)**2) + 1347 / ((1 + 0.15)**3)"
   ]
  },
  {
   "cell_type": "markdown",
   "metadata": {},
   "source": [
    "15. Calculate the present value of a $1,300 discount bond with seven years to maturity if the yield to maturity is 8%."
   ]
  },
  {
   "cell_type": "code",
   "execution_count": 7,
   "metadata": {},
   "outputs": [
    {
     "data": {
      "text/plain": [
       "758.5375138407738"
      ]
     },
     "execution_count": 7,
     "metadata": {},
     "output_type": "execute_result"
    }
   ],
   "source": [
    "1300 / ((1 + 0.08)**7)"
   ]
  },
  {
   "cell_type": "markdown",
   "metadata": {},
   "source": [
    "16. A lottery claims its grand prize is \\\\$15 million, payable over 5 years at \\\\$3,000,000 per year. If the first payment is made immediately, what is this grand prize really worth? Use an interest rate of 7%."
   ]
  },
  {
   "cell_type": "code",
   "execution_count": 14,
   "metadata": {},
   "outputs": [
    {
     "data": {
      "text/plain": [
       "13161633.769391775"
      ]
     },
     "execution_count": 14,
     "metadata": {},
     "output_type": "execute_result"
    }
   ],
   "source": [
    "def lottery_pv(fixed_yearly_payment, interest_rate, years_to_maturity):\n",
    "    value = 0\n",
    "    for i in range(years_to_maturity):\n",
    "        value += (fixed_yearly_payment / ((1 + interest_rate)**i))\n",
    "    return value\n",
    "\n",
    "lottery_pv(3_000_000, 0.07, 5)"
   ]
  },
  {
   "cell_type": "markdown",
   "metadata": {},
   "source": [
    "17. What is the yield to maturity on a \\\\$10,000-face-value discount bond maturing in one year that sells for \\\\$9,523.81?"
   ]
  },
  {
   "cell_type": "code",
   "execution_count": 15,
   "metadata": {},
   "outputs": [
    {
     "data": {
      "text/plain": [
       "0.049999947500002584"
      ]
     },
     "execution_count": 15,
     "metadata": {},
     "output_type": "execute_result"
    }
   ],
   "source": [
    "10_000 / 9_523.81 - 1"
   ]
  },
  {
   "cell_type": "markdown",
   "metadata": {},
   "source": [
    "18. What is the yield to maturity (YTM) on a simple loan for \\\\$1,500 that requires a repayment of \\\\$15,000 in five years’ time?\n",
    "\n",
    "    PV = CF / (1 + n)^n, 1500 = 15000 / (1 + i)^5\n",
    "    \n",
    "    i ≈ 0.58489\n",
    "    \n",
    "19. Which \\\\$10,000 bond has the higher yield to maturity, a twenty-year bond selling for \\\\$8,000 with a current yield of 20% or a one-year bond selling for \\\\$8,000 with a current yield of 10%?\n",
    "\n",
    "    The yield to maturity of long term bonds is near to the current yield. The yield to maturity of the one-year bond is 10000/8000 - 1 = 0.25, it's higher.\n",
    "    \n",
    "20. Consider a bond with a 6% annual coupon and a face value of \\\\$1,000. Complete the following table. What relationships do you observe between years to maturity, yield to maturity, and the current price?"
   ]
  },
  {
   "cell_type": "code",
   "execution_count": 38,
   "metadata": {},
   "outputs": [
    {
     "name": "stdout",
     "output_type": "stream",
     "text": [
      "1037.721893491124\n",
      "999.9999999999999\n",
      "1000.0\n",
      "1089.0364466203239\n",
      "920.145799258438\n"
     ]
    }
   ],
   "source": [
    "def coupon_bond_cv(face_value, coupon_rate, years_to_maturity, yield_to_maturity):\n",
    "    cv = 0\n",
    "    yearly_coupon_payment = face_value * coupon_rate\n",
    "    for i in range(1, years_to_maturity + 1):\n",
    "        cv += (yearly_coupon_payment / ((1 + yield_to_maturity) ** i))\n",
    "    cv += (face_value / ((1 + yield_to_maturity) ** years_to_maturity))\n",
    "    return cv\n",
    "\n",
    "print(coupon_bond_cv(1_000, 0.06, 2, 0.04))\n",
    "print(coupon_bond_cv(1_000, 0.06, 2, 0.06))\n",
    "print(coupon_bond_cv(1_000, 0.06, 3, 0.06))\n",
    "print(coupon_bond_cv(1_000, 0.06, 5, 0.04))\n",
    "print(coupon_bond_cv(1_000, 0.06, 5, 0.08))"
   ]
  },
  {
   "cell_type": "markdown",
   "metadata": {},
   "source": [
    "When years to maturity increases, the current price increases. \n",
    "\n",
    "When yield to maturity increases, the current price decreases.\n",
    "\n",
    "\n",
    "21. Consider a coupon bond that has a \\\\$900 par value and a coupon rate of 6%. The bond is currently selling for \\\\$860.15 and has two years to maturity. What is the bond’s yield to maturity (YTM)?\n",
    "\n",
    "    [Par value](https://en.wikipedia.org/wiki/Par_value)\n",
    "    \n",
    "    860.15 = 900 * 0.06 / (1 + i) + 900 * 0.06 / (1 + i)^2 + 900 / (1 + i)^2\n",
    "    \n",
    "    i ≈ 0.085\n",
    "    \n",
    "22. What is the price of a perpetuity that has a coupon of \\\\$70 per year and a yield to maturity of 1.5%? If the yield to maturity doubles, what will happen to the perpetuity’s price?"
   ]
  },
  {
   "cell_type": "code",
   "execution_count": 1,
   "metadata": {},
   "outputs": [
    {
     "data": {
      "text/plain": [
       "4666.666666666667"
      ]
     },
     "execution_count": 1,
     "metadata": {},
     "output_type": "execute_result"
    }
   ],
   "source": [
    "# price of perpetuity\n",
    "# p = c / ic\n",
    "70 / 0.015"
   ]
  },
  {
   "cell_type": "code",
   "execution_count": 2,
   "metadata": {},
   "outputs": [
    {
     "data": {
      "text/plain": [
       "2333.3333333333335"
      ]
     },
     "execution_count": 2,
     "metadata": {},
     "output_type": "execute_result"
    }
   ],
   "source": [
    "# double the yield to maturity\n",
    "70 / 0.03"
   ]
  },
  {
   "cell_type": "markdown",
   "metadata": {},
   "source": [
    "23. Property taxes in a particular district are 2% of the purchase price of a home every year. If you just purchased a \\\\$150,000 home, what is the present value of all the future property tax payments? Assume that the house remains worth \\\\$150,000 forever, property tax rates never change, and a 4% interest rate is used for discounting."
   ]
  },
  {
   "cell_type": "code",
   "execution_count": 3,
   "metadata": {},
   "outputs": [
    {
     "data": {
      "text/plain": [
       "75000.0"
      ]
     },
     "execution_count": 3,
     "metadata": {},
     "output_type": "execute_result"
    }
   ],
   "source": [
    "# like perpetuity\n",
    "150_000 * 0.02 / 0.04"
   ]
  },
  {
   "cell_type": "markdown",
   "metadata": {},
   "source": [
    "24. A \\\\$1,100-face-value bond has a 5% coupon rate, its current price is \\\\$1,040, and it is expected to increase to \\\\$1,070 next year. Calculate the current yield, the expected rate of capital gains, and the expected rate of return."
   ]
  },
  {
   "cell_type": "code",
   "execution_count": 5,
   "metadata": {},
   "outputs": [
    {
     "data": {
      "text/plain": [
       "0.052884615384615384"
      ]
     },
     "execution_count": 5,
     "metadata": {},
     "output_type": "execute_result"
    }
   ],
   "source": [
    "# current yield ic = C / Pt\n",
    "ic = 1_100 * 0.05 / 1_040\n",
    "ic"
   ]
  },
  {
   "cell_type": "code",
   "execution_count": 7,
   "metadata": {},
   "outputs": [
    {
     "data": {
      "text/plain": [
       "0.028846153846153848"
      ]
     },
     "execution_count": 7,
     "metadata": {},
     "output_type": "execute_result"
    }
   ],
   "source": [
    "# rate of capital gain g = (Pt+1 - Pt) / Pt\n",
    "g = (1070 - 1040) / 1040\n",
    "g"
   ]
  },
  {
   "cell_type": "code",
   "execution_count": 8,
   "metadata": {},
   "outputs": [
    {
     "data": {
      "text/plain": [
       "0.08173076923076923"
      ]
     },
     "execution_count": 8,
     "metadata": {},
     "output_type": "execute_result"
    }
   ],
   "source": [
    "# rate of return R = ic + g\n",
    "ic + g"
   ]
  },
  {
   "cell_type": "markdown",
   "metadata": {},
   "source": [
    "25. Assume you just deposited \\\\$1,250 into a bank account. The current real interest rate is 1%, and inflation is expected to be 5% over the next year. What nominal rate would you require from the bank over the next year? How much money will you have at the end of one year? If you are saving to buy a fancy bicycle that currently sells for \\\\$1,300, will you have enough money to buy it?\n",
    "\n",
    "    i(nominal interest rate) = r(real interest rate) + π^e(expected rate of inflation) = 1 + 5 = 6"
   ]
  },
  {
   "cell_type": "code",
   "execution_count": 9,
   "metadata": {},
   "outputs": [
    {
     "data": {
      "text/plain": [
       "1325.0"
      ]
     },
     "execution_count": 9,
     "metadata": {},
     "output_type": "execute_result"
    }
   ],
   "source": [
    "# money at the end of year\n",
    "1250 * (1 + 0.06)"
   ]
  },
  {
   "cell_type": "markdown",
   "metadata": {},
   "source": [
    "## Data analysis problems\n",
    "\n",
    "1. Go to the St. Louis Federal Reserve FRED database, and find data on the interest rate on a four-year auto loan ([TERMCBAUTO48NS](https://fred.stlouisfed.org/series/TERMCBAUTO48NS)). Assume that you borrow \\\\$20,000 to purchase a new automobile and that you finance it with a four-year loan at the most recent interest rate given in the database. If you make one payment per year for four years, what will the yearly payment be? What is the total amount that will be paid out on the \\\\$20,000 loan?\n",
    "\n",
    "    The most recent interest rate is 5.45% at 2019-11-01.\n",
    "\n",
    "    20,000 = FP/(1 + 0.0545) + FP/(1 + 0.0545)^2 + FP/(1 + 0.0545)^3 + FP/(1 + 0.0545)^4"
   ]
  },
  {
   "cell_type": "code",
   "execution_count": 12,
   "metadata": {},
   "outputs": [
    {
     "name": "stdout",
     "output_type": "stream",
     "text": [
      "Fixed yearly payment: 5699.31144481748\n",
      "Total amount: 22797.24577926992\n"
     ]
    }
   ],
   "source": [
    "interest_rate = 0.0545\n",
    "FP = 20_000 / (1/(1 + interest_rate) + 1/((1 + interest_rate)**2) + 1/((1 + interest_rate)**3) + 1/((1 + interest_rate)**4))\n",
    "print(f\"Fixed yearly payment: {FP}\")\n",
    "print(f\"Total amount: {FP * 4}\")"
   ]
  },
  {
   "cell_type": "markdown",
   "metadata": {},
   "source": [
    "2. The U.S. Treasury issues some bonds as *Treasury Inflation Indexed Securities*, or *TIIS*, which are bonds adjusted for inflation; hence the yields can be roughly interpreted as real interest rates. Go to the St. Louis Federal Reserve FRED database, and find data on the following TIIS bonds and their nominal counterparts. Then answer the questions below.\n",
    "\n",
    "    - 5 year U.S. treasury (DGS5) and 5 year TIIS (DFII5)\n",
    "    \n",
    "    - 7 year U.S. treasury (DGS7) and 7 year TIIS (DFII7)\n",
    "    \n",
    "    - 10 year U.S. treasury (DGS10) and 10 year TIIS (DFII10)\n",
    "    \n",
    "    - 20 year U.S. treasury (DGS20) and 20 year TIIS (DFII20)\n",
    "    \n",
    "    - 30 year U.S. treasury (DGS30) and 30 year TIIS (DFII30)\n",
    "    \n",
    "    a. Following the Great Recession of 2008–2009, the 5, 7, 10, and even the 20 year TIIS yields became negative for a period of time. How is this possible?\n",
    "    \n",
    "    The normal interest is near zero around 2012 and the inflation ration rate is heigher then the normal interest rate(above one).\n",
    "    \n",
    "    b. Using the most recent data available, calculate the difference between the yields for each of the pairs of bonds (DGS5 – DFII5, etc.) listed above. What does this difference represent?\n",
    "    \n",
    "    The difference represents expected rate of inflation.\n",
    "    \n",
    "    c. Based on your answer to part (b), are there significant variations among the differences in the bond-pair yields? Interpret the magnitude of the variation in differences among the pairs.\n",
    "    \n",
    "    Yes. The inflation rate is expected heigher at longer term bonds."
   ]
  },
  {
   "cell_type": "code",
   "execution_count": 13,
   "metadata": {},
   "outputs": [],
   "source": [
    "import pandas as pd\n",
    "DGS5_df = pd.read_csv(\"https://fred.stlouisfed.org/graph/fredgraph.csv?bgcolor=%23e1e9f0&chart_type=line&drp=0&fo=open%20sans&graph_bgcolor=%23ffffff&height=450&mode=fred&recession_bars=on&txtcolor=%23444444&ts=12&tts=12&width=1168&nt=0&thu=0&trc=0&show_legend=yes&show_axis_titles=yes&show_tooltip=yes&id=DGS5&scale=left&cosd=1962-01-02&coed=2020-03-19&line_color=%234572a7&link_values=false&line_style=solid&mark_type=none&mw=3&lw=2&ost=-99999&oet=99999&mma=0&fml=a&fq=Daily&fam=avg&fgst=lin&fgsnd=2009-06-01&line_index=1&transformation=lin&vintage_date=2020-03-22&revision_date=2020-03-22&nd=1962-01-02\")\n",
    "DFII5_df = pd.read_csv(\"https://fred.stlouisfed.org/graph/fredgraph.csv?bgcolor=%23e1e9f0&chart_type=line&drp=0&fo=open%20sans&graph_bgcolor=%23ffffff&height=450&mode=fred&recession_bars=on&txtcolor=%23444444&ts=12&tts=12&width=1168&nt=0&thu=0&trc=0&show_legend=yes&show_axis_titles=yes&show_tooltip=yes&id=DFII5&scale=left&cosd=2003-01-02&coed=2020-03-19&line_color=%234572a7&link_values=false&line_style=solid&mark_type=none&mw=3&lw=2&ost=-99999&oet=99999&mma=0&fml=a&fq=Daily&fam=avg&fgst=lin&fgsnd=2009-06-01&line_index=1&transformation=lin&vintage_date=2020-03-22&revision_date=2020-03-22&nd=2003-01-02\")\n",
    "DGS7_df = pd.read_csv(\"https://fred.stlouisfed.org/graph/fredgraph.csv?bgcolor=%23e1e9f0&chart_type=line&drp=0&fo=open%20sans&graph_bgcolor=%23ffffff&height=450&mode=fred&recession_bars=on&txtcolor=%23444444&ts=12&tts=12&width=1168&nt=0&thu=0&trc=0&show_legend=yes&show_axis_titles=yes&show_tooltip=yes&id=DGS7&scale=left&cosd=1969-07-01&coed=2020-03-19&line_color=%234572a7&link_values=false&line_style=solid&mark_type=none&mw=3&lw=2&ost=-99999&oet=99999&mma=0&fml=a&fq=Daily&fam=avg&fgst=lin&fgsnd=2009-06-01&line_index=1&transformation=lin&vintage_date=2020-03-22&revision_date=2020-03-22&nd=1969-07-01\")\n",
    "DFII7_df = pd.read_csv(\"https://fred.stlouisfed.org/graph/fredgraph.csv?bgcolor=%23e1e9f0&chart_type=line&drp=0&fo=open%20sans&graph_bgcolor=%23ffffff&height=450&mode=fred&recession_bars=on&txtcolor=%23444444&ts=12&tts=12&width=1168&nt=0&thu=0&trc=0&show_legend=yes&show_axis_titles=yes&show_tooltip=yes&id=DFII7&scale=left&cosd=2003-01-02&coed=2020-03-19&line_color=%234572a7&link_values=false&line_style=solid&mark_type=none&mw=3&lw=2&ost=-99999&oet=99999&mma=0&fml=a&fq=Daily&fam=avg&fgst=lin&fgsnd=2009-06-01&line_index=1&transformation=lin&vintage_date=2020-03-22&revision_date=2020-03-22&nd=2003-01-02\")\n",
    "DGS10_df = pd.read_csv(\"https://fred.stlouisfed.org/graph/fredgraph.csv?bgcolor=%23e1e9f0&chart_type=line&drp=0&fo=open%20sans&graph_bgcolor=%23ffffff&height=450&mode=fred&recession_bars=on&txtcolor=%23444444&ts=12&tts=12&width=1168&nt=0&thu=0&trc=0&show_legend=yes&show_axis_titles=yes&show_tooltip=yes&id=DGS10&scale=left&cosd=1962-01-02&coed=2020-03-19&line_color=%234572a7&link_values=false&line_style=solid&mark_type=none&mw=3&lw=2&ost=-99999&oet=99999&mma=0&fml=a&fq=Daily&fam=avg&fgst=lin&fgsnd=2009-06-01&line_index=1&transformation=lin&vintage_date=2020-03-22&revision_date=2020-03-22&nd=1962-01-02\")\n",
    "DFII10_df = pd.read_csv(\"https://fred.stlouisfed.org/graph/fredgraph.csv?bgcolor=%23e1e9f0&chart_type=line&drp=0&fo=open%20sans&graph_bgcolor=%23ffffff&height=450&mode=fred&recession_bars=on&txtcolor=%23444444&ts=12&tts=12&width=1168&nt=0&thu=0&trc=0&show_legend=yes&show_axis_titles=yes&show_tooltip=yes&id=DFII10&scale=left&cosd=2003-01-02&coed=2020-03-19&line_color=%234572a7&link_values=false&line_style=solid&mark_type=none&mw=3&lw=2&ost=-99999&oet=99999&mma=0&fml=a&fq=Daily&fam=avg&fgst=lin&fgsnd=2009-06-01&line_index=1&transformation=lin&vintage_date=2020-03-22&revision_date=2020-03-22&nd=2003-01-02\")\n",
    "DGS20_df = pd.read_csv(\"https://fred.stlouisfed.org/graph/fredgraph.csv?bgcolor=%23e1e9f0&chart_type=line&drp=0&fo=open%20sans&graph_bgcolor=%23ffffff&height=450&mode=fred&recession_bars=on&txtcolor=%23444444&ts=12&tts=12&width=1168&nt=0&thu=0&trc=0&show_legend=yes&show_axis_titles=yes&show_tooltip=yes&id=DGS20&scale=left&cosd=1993-10-01&coed=2020-03-19&line_color=%234572a7&link_values=false&line_style=solid&mark_type=none&mw=3&lw=2&ost=-99999&oet=99999&mma=0&fml=a&fq=Daily&fam=avg&fgst=lin&fgsnd=2009-06-01&line_index=1&transformation=lin&vintage_date=2020-03-22&revision_date=2020-03-22&nd=1993-10-01\")\n",
    "DFII20_df = pd.read_csv(\"https://fred.stlouisfed.org/graph/fredgraph.csv?bgcolor=%23e1e9f0&chart_type=line&drp=0&fo=open%20sans&graph_bgcolor=%23ffffff&height=450&mode=fred&recession_bars=on&txtcolor=%23444444&ts=12&tts=12&width=1168&nt=0&thu=0&trc=0&show_legend=yes&show_axis_titles=yes&show_tooltip=yes&id=DFII20&scale=left&cosd=2004-07-27&coed=2020-03-19&line_color=%234572a7&link_values=false&line_style=solid&mark_type=none&mw=3&lw=2&ost=-99999&oet=99999&mma=0&fml=a&fq=Daily&fam=avg&fgst=lin&fgsnd=2009-06-01&line_index=1&transformation=lin&vintage_date=2020-03-22&revision_date=2020-03-22&nd=2004-07-27\")\n",
    "DGS30_df = pd.read_csv(\"https://fred.stlouisfed.org/graph/fredgraph.csv?bgcolor=%23e1e9f0&chart_type=line&drp=0&fo=open%20sans&graph_bgcolor=%23ffffff&height=450&mode=fred&recession_bars=on&txtcolor=%23444444&ts=12&tts=12&width=1168&nt=0&thu=0&trc=0&show_legend=yes&show_axis_titles=yes&show_tooltip=yes&id=DGS30&scale=left&cosd=1977-02-15&coed=2020-03-19&line_color=%234572a7&link_values=false&line_style=solid&mark_type=none&mw=3&lw=2&ost=-99999&oet=99999&mma=0&fml=a&fq=Daily&fam=avg&fgst=lin&fgsnd=2009-06-01&line_index=1&transformation=lin&vintage_date=2020-03-22&revision_date=2020-03-22&nd=1977-02-15\")\n",
    "DFII30_df = pd.read_csv(\"https://fred.stlouisfed.org/graph/fredgraph.csv?bgcolor=%23e1e9f0&chart_type=line&drp=0&fo=open%20sans&graph_bgcolor=%23ffffff&height=450&mode=fred&recession_bars=on&txtcolor=%23444444&ts=12&tts=12&width=1168&nt=0&thu=0&trc=0&show_legend=yes&show_axis_titles=yes&show_tooltip=yes&id=DFII30&scale=left&cosd=2010-02-22&coed=2020-03-19&line_color=%234572a7&link_values=false&line_style=solid&mark_type=none&mw=3&lw=2&ost=-99999&oet=99999&mma=0&fml=a&fq=Daily&fam=avg&fgst=lin&fgsnd=2010-02-22&line_index=1&transformation=lin&vintage_date=2020-03-22&revision_date=2020-03-22&nd=2010-02-22\")"
   ]
  },
  {
   "cell_type": "code",
   "execution_count": 26,
   "metadata": {},
   "outputs": [
    {
     "name": "stdout",
     "output_type": "stream",
     "text": [
      "Most recent data's date: 2020-03-19\n",
      "Most recent difference of DGS5 and DFII5: 0.14\n",
      "Most recent difference of DGS7 and DFII7: 0.43999999999999995\n",
      "Most recent difference of DGS10 and DFII10: 0.5000000000000001\n",
      "Most recent difference of DGS20 and DFII20: 0.8500000000000001\n",
      "Most recent difference of DGS30 and DFII30: 1.0\n"
     ]
    }
   ],
   "source": [
    "def most_recent_data(df):\n",
    "    return float(df.tail(1).iat[0, 1])\n",
    "\n",
    "def most_recent_difference(df_1, df_2):\n",
    "    return most_recent_data(df_1) - most_recent_data(df_2)\n",
    "    \n",
    "print(f\"Most recent data's date: {DGS5_df.tail(1).iat[0, 0]}\")  \n",
    "print(f\"Most recent difference of DGS5 and DFII5: {most_recent_difference(DGS5_df, DFII5_df)}\")\n",
    "print(f\"Most recent difference of DGS7 and DFII7: {most_recent_difference(DGS7_df, DFII7_df)}\")\n",
    "print(f\"Most recent difference of DGS10 and DFII10: {most_recent_difference(DGS10_df, DFII10_df)}\")\n",
    "print(f\"Most recent difference of DGS20 and DFII20: {most_recent_difference(DGS20_df, DFII20_df)}\")\n",
    "print(f\"Most recent difference of DGS30 and DFII30: {most_recent_difference(DGS30_df, DFII30_df)}\")"
   ]
  },
  {
   "cell_type": "markdown",
   "metadata": {},
   "source": []
  }
 ],
 "metadata": {
  "kernelspec": {
   "display_name": "Python 3",
   "language": "python",
   "name": "python3"
  },
  "language_info": {
   "codemirror_mode": {
    "name": "ipython",
    "version": 3
   },
   "file_extension": ".py",
   "mimetype": "text/x-python",
   "name": "python",
   "nbconvert_exporter": "python",
   "pygments_lexer": "ipython3",
   "version": "3.7.4"
  }
 },
 "nbformat": 4,
 "nbformat_minor": 4
}
