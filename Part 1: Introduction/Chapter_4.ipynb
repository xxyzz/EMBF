{
 "cells": [
  {
   "cell_type": "markdown",
   "metadata": {},
   "source": [
    "# The Meaning of Interest Rates\n",
    "\n",
    "## Question\n",
    "\n",
    "1. Would $175, to be received in exactly one year, be worth more to you today when the interest rate is 15% or when it is 20%?\n",
    "\n",
    "    PV = CF / (1 + i), 15% will worth more.\n",
    "    \n",
    "    PV = today's price value\n",
    "    \n",
    "    CF = cash flow\n",
    "    \n",
    "    i = interest rate"
   ]
  },
  {
   "cell_type": "code",
   "execution_count": 1,
   "metadata": {},
   "outputs": [
    {
     "data": {
      "text/plain": [
       "152.17391304347828"
      ]
     },
     "execution_count": 1,
     "metadata": {},
     "output_type": "execute_result"
    }
   ],
   "source": [
    "175 / (1 + 0.15)"
   ]
  },
  {
   "cell_type": "code",
   "execution_count": 2,
   "metadata": {},
   "outputs": [
    {
     "data": {
      "text/plain": [
       "145.83333333333334"
      ]
     },
     "execution_count": 2,
     "metadata": {},
     "output_type": "execute_result"
    }
   ],
   "source": [
    "175 / (1 + 0.2)"
   ]
  },
  {
   "cell_type": "markdown",
   "metadata": {},
   "source": [
    "2. Write down the formula that is used to calculate the yield to maturity on a twenty-year 12% coupon bond with a $1,000 face value that sells for $2,500.\n",
    "\n",
    "    2500 = 120/(1 + i) + 120/(1 + i)^2 + ... + 120/(1 + i)^20 + 1000/(1 + i)^20\n",
    "    \n",
    "3. To help pay for college, you have just taken out a $1,000 government loan that makes you pay $126 per year for 25 years. However, you don’t have to start making these payments until you graduate from college two years from now. Why is the yield to maturity necessarily less than 12%? (This is the yield to maturity on a normal $1,000 fixed-payment loan on which you pay $126 per year for 25 years.)\n",
    "\n",
    "    Since you don't pay the loan right after you taking the loan, the yield to maturity must be lower than 12% to make up the price of the loan.\n",
    "    \n",
    "4. Do bondholders fare better when the yield to maturity increases or when it decreases? Why?\n",
    "\n",
    "    The yield to maturity decrease means the price of the bound increases.\n",
    "    \n",
    "5. A financial adviser has just given you the following advice: “Long-term bonds are a great investment because their interest rate is over 20%.” Is the financial adviser necessarily right?\n",
    "\n",
    "    If interest rate increases sharply in the future, the price of long-term bonds will fail sharply.\n",
    "    \n",
    "6. If mortgage rates rise from 5% to 10% but the expected rate of increase in housing prices rises from 2% to 9%, are people more or less likely to buy houses?\n",
    "\n",
    "    The real interest rates fall from 3%(5% - 2%) to 1%(10% - 9%), people are more likely to buy houses.\n",
    "    \n",
    "7. When is the current yield a good approximation of the yield to maturity?\n",
    "\n",
    "    When a coupon bond has a long term to maturity (say, twenty years or more), it is very much like a perpetuity, which pays coupon payments forever. This is because the cash flows more than twenty years in the future have such small present discounted values that the value of a long-term coupon bond is very close to the value of a perpetuity with the same coupon rate.(from page 120)\n",
    "    \n",
    "8. Why would a government choose to issue a perpetuity, which requires payments forever, instead of a terminal loan, such as a fixed-payment loan, discount bond, or coupon bond?\n",
    "\n",
    "    The government desides when to redeem them. The first British Consols were issued in 1751, and they were redeemed at 2015. https://en.wikipedia.org/wiki/Consol_(bond) https://en.wikipedia.org/wiki/Perpetuity\n",
    "    \n",
    "9. Under what conditions will a discount bond have a negative nominal interest rate? Is it possible for a coupon bond or a perpetuity to have a negative nominal interest rate?\n",
    "\n",
    "    Discount bond: PV = CF / (1 + i)^n, when present value is higher then cash flow.\n",
    "    \n",
    "    Coupon bond: one year maturity, P = (C + F)/(1 + i), when yearly conpon payment plus face value (C + F) is lower then the bond price(P).\n",
    "    \n",
    "    Perpetuity: Pc(price of the perpetuity) = C(yearly payment) / ic(yield to maturity of the perpetuity), no way.\n",
    "    \n",
    "10. True or False: With a discount bond, the return on the bond is equal to the rate of capital gain.\n",
    "\n",
    "    R = ic(current yield) + g(rate of capital gain). Discount bond doesn't have coupon payment, so it's true.\n",
    "    \n",
    "11. If interest rates decline, which would you rather be holding, long-term bonds or short-term bonds? Why? Which type of bond has the greater interest-rate risk?\n",
    "\n",
    "    PV = CF / (1 + i)^n, long-term bond price will increase more but has greater interest-rate risk.\n",
    "    \n",
    "    Th result of equation 3 is the present value, that's the value when you brought the bond. In order to caculate the price of the bond at the second year, we need to minus one year then apply it to the equation."
   ]
  },
  {
   "cell_type": "code",
   "execution_count": 2,
   "metadata": {},
   "outputs": [
    {
     "name": "stdout",
     "output_type": "stream",
     "text": [
      "1000.0\n",
      "741.1265432098766\n",
      "502.5276321398524\n"
     ]
    }
   ],
   "source": [
    "def next_year_value(face_value, years_to_maturity, coupone_rate, interest_rate):\n",
    "    price = 0\n",
    "    years_to_maturity -= 1\n",
    "    # implement equation 3(page 117)\n",
    "    for i in range(1, years_to_maturity + 1):\n",
    "        price += ((face_value * coupone_rate) / ((1 + interest_rate) ** i))\n",
    "    price += (face_value / ((1 + interest_rate) ** years_to_maturity))\n",
    "    return price\n",
    "# calculate table 2 at page 123\n",
    "print(next_year_value(1000, 1, 0.1, 0.2))\n",
    "print(next_year_value(1000, 5, 0.1, 0.2))\n",
    "print(next_year_value(1000, 30, 0.1, 0.2))"
   ]
  },
  {
   "cell_type": "markdown",
   "metadata": {},
   "source": [
    "12. Interest rates were lower in the mid-1980s than in the late 1970s, yet many economists have commented that real interest rates were actually much higher in the mid-1980s than in the late 1970s. Does this make sense? Do you think that these economists are right?\n",
    "\n",
    "    ![Inflation, consumer prices for the United States (FPCPITOTLZGUSA)](https://fred.stlouisfed.org/graph/fredgraph.png?g=lXs0)\n",
    "    \n",
    "    Inflation rate was lower in the mid-1980s. r(real interest rate) = i(nominal interest rate) - π^e(inflation rate), they are right.\n",
    "    \n",
    "    \n",
    "13. Retired persons often have much of their wealth placed in savings accounts and other interest-bearing investments, and complain whenever interest rates are low. Do they have a valid complaint?\n",
    "\n",
    "    \"When the interest rates are lower then the inflation rate, you will comlain too.\" --grandpa"
   ]
  }
 ],
 "metadata": {
  "kernelspec": {
   "display_name": "Python 3",
   "language": "python",
   "name": "python3"
  },
  "language_info": {
   "codemirror_mode": {
    "name": "ipython",
    "version": 3
   },
   "file_extension": ".py",
   "mimetype": "text/x-python",
   "name": "python",
   "nbconvert_exporter": "python",
   "pygments_lexer": "ipython3",
   "version": "3.7.4"
  }
 },
 "nbformat": 4,
 "nbformat_minor": 4
}
