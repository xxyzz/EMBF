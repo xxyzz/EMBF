{
 "cells": [
  {
   "cell_type": "markdown",
   "metadata": {},
   "source": [
    "# An Overview of the Financial System\n",
    "\n",
    "## Questions\n",
    "\n",
    "1. If I can buy a car today for \\\\$5,000 and it is worth \\\\$10,000 in extra income to me next year because it enables me to get a job as a traveling salesman, should I take out a loan from Larry the Loan Shark at a 90% interest rate if no one else will give me a loan? Will I be better or worse off as a result of taking out this loan? Can you make a case for legalizing loan sharking?"
   ]
  },
  {
   "cell_type": "code",
   "execution_count": 2,
   "metadata": {},
   "outputs": [
    {
     "data": {
      "text/plain": [
       "-4000.0"
      ]
     },
     "execution_count": 2,
     "metadata": {},
     "output_type": "execute_result"
    }
   ],
   "source": [
    "10000 - 5000 - 10000 * 0.9"
   ]
  },
  {
   "cell_type": "markdown",
   "metadata": {},
   "source": [
    "You shouldn't take the loan. Set a interest rate limit."
   ]
  },
  {
   "cell_type": "markdown",
   "metadata": {},
   "source": [
    "2. Some economists suspect that one of the reasons economies in developing countries grow so slowly is that they do not have well-developed financial markets. Does this argument make sense?\n",
    "\n",
    "    If they don't have too much savers who have excess of funds, financial markets can't exists.\n",
    "    \n",
    "3. Why is a share of Microsoft common stock an asset for its owner and a liability for Microsoft?\n",
    "\n",
    "    Stock entitles the owner to a share of the company’s profits and assets. The borrowers sell the securities which claims on the borrower’s future income or assets.\n",
    "    \n",
    "4. If you suspect that a company will go bankrupt next year, which would you rather hold, bonds issued by the company or equities issued by the company? Why?\n",
    "\n",
    "    Bonds. The corporation must pay all its debt holders before it pays its equity holders.\n",
    "    \n",
    "5. “Because corporations do not actually raise any funds in secondary markets, secondary markets are less important to the economy than primary markets are.” Is this statement true, false, or uncertain?\n",
    "\n",
    "    False. First, they make it easier and quicker to sell these financial instruments to raise cash (more liquid). Second, secondary markets determine the price in the primary market.\n",
    "    \n",
    "6. Describe who issues each of the following money market instruments:\n",
    "\n",
    "    a. Treasury bills: The federal government\n",
    "    \n",
    "    b. Certificates of deposit: Bank\n",
    "    \n",
    "    c. Commercial paper: Large banks and well-known corporations\n",
    "    \n",
    "    d. Repurchase agreement: Bank\n",
    "    \n",
    "    e. Fed funds: Bank\n",
    "    \n",
    "7. What is the difference between a *mortgage* and a *mortgage-backed* security?\n",
    "\n",
    "    >Mortgage-backed securities are bond-like debt instruments backed by a bundle of individual mortgages, whose interest and principal payments are collectively paid to the holders of the security\n",
    "    \n",
    "8. The U.S. economy borrowed heavily from the British in the nineteenth century to build a railroad system. Why did this make both countries better off?\n",
    "\n",
    "    The U.S. got money to build railroads and the British got intrest.\n",
    "    \n",
    "9. A significant number of European banks held large amounts of assets as mortgage-backed securities derived from the U.S. housing market, which crashed after 2006. How does this demonstrate both a benefit and a cost to the internationalization of financial markets?\n",
    "\n",
    "    The benifit is it makes financial markets more liquid, the cost is taking more risks from other countries.\n",
    "    \n",
    "10. How does risk sharing benefit both financial intermediaries and private investors?\n",
    "\n",
    "    Sharing the risk by diversify invests makes financial intermediaries earn profits and lower the risk for private investors.\n",
    "    \n",
    "11. How can the adverse selection problem explain why you are more likely to make a loan to a family member than to a stranger?\n",
    "\n",
    "    I know my relatives well, so I know the risk. The information is more symmetric.\n",
    "    \n",
    "12. One of the factors contributing to the financial crisis of 2007–2009 was the widespread issuance of subprime mortgages. How does this demonstrate adverse selection?\n",
    "\n",
    "    The borrowers with bad credit risks are most likely produce an undesirable (adverse) outcome, and they are also more likely to get loans due to asymmetric infomation.\n",
    "    \n",
    "13. Why do loan sharks worry less about moral hazard in connection with their borrowers than some other lenders do?\n",
    "\n",
    "    They don't care what borrowers do and don't fear default.\n",
    "\n",
    "14. If you are an employer, what kinds of moral hazard problems might you worry about with regard to your employees?\n",
    "\n",
    "    Steal technology for authoritarian government.\n",
    "    \n",
    ">Don't f\\*ck me, Eric. Don't you ever try to f\\*ck me.\n",
    ">\n",
    "> -- <cite>Colonel Sanders</cite>\n",
    "    \n",
    "15. If there were no asymmetry in the information that a borrower and a lender had, could a moral hazard problem still exist?\n",
    "    \n",
    "    Maybe not.\n",
    "   \n",
    "16. “In a world without information costs and transaction costs, financial intermediaries would not exist.” Is this statement true, false, or uncertain? Explain your answer.\n",
    "\n",
    "    False. Risk share is important.\n",
    "\n",
    "17. Why might you be willing to make a loan to your neighbor by putting funds in a savings account earning a 5% interest rate at the bank and having the bank lend her the funds at a 10% interest rate, rather than lend her the funds yourself?\n",
    "\n",
    "    The bank can lower the cost and the risk.\n",
    "\n",
    "18. How do conflicts of interest make the asymmetric information problem worse?\n",
    "\n",
    "    People can use asymmetric information to infavor one of or some of their interests.\n",
    "    \n",
    "19. How can the provision of several types of financial services by one firm be both beneficial and problematic?\n",
    "\n",
    "    Pros: lower risk\n",
    "    \n",
    "    Cons: may cause interest conflict\n",
    "\n",
    "20. If you were going to get a loan to purchase a new car, which financial intermediary would you use: a credit union, a pension fund, or an investment bank?\n",
    "\n",
    "    Credit unions, they primarily make consumer loans. The other two are not suitable for a car loan. Pension funds' largest asset holdings are corporate bonds and stocks. Investment bank helps a corporation issue securities.\n",
    "\n",
    "21. Why would a life insurance company be concerned about the financial stability of major corporations or the health of the housing market?\n",
    "\n",
    "    >Contractual savings institutions, such as insurance companies and pension funds, are financial intermediaries that acquire funds at periodic intervals on a contractual basis. Because they can predict with reasonable accuracy how much they will have to pay out in benefits in the coming years, they do not have to worry as much as depository institutions about losing funds quickly. As a result, the liquidity of assets is not as important a consideration for them as it is for depository institutions, and they tend to invest their funds primarily in long-term securities such as corporate bonds, stocks, and mortgages.\n",
    "\n",
    "22. In 2008, as a financial crisis began to unfold in the United States, the FDIC raised the limit on insured losses to bank depositors from \\\\$100,000 per account to \\\\$250,000 per account. How would this help stabilize the financial system?\n",
    "\n",
    "    That will preserves public confidence of the banks, thus stabilize the financial system.\n",
    "    \n",
    "    [Who is the FDIC?](https://www.fdic.gov/about/learn/symbol)"
   ]
  },
  {
   "cell_type": "markdown",
   "metadata": {},
   "source": [
    "## Applied Problems\n",
    "\n",
    "23. Suppose you have just inherited \\\\$10,500 and are considering the following options for investing the money to maximize your return:\n",
    "\n",
    "Option 1: Hold the money in cash and earn zero return.\n",
    "\n",
    "Option 2: Loan the money to one of your friend’s roommates, Mike, at an agreed-upon interest rate of 8\\%, even though you believe there is a 7\\% chance that Mike will leave town without repaying you.\n",
    "\n",
    "Option 3: Invest the money in a corporate bond with a stated return of 5\\%, although there is a 10\\% chance the company could go bankrupt.\n",
    "\n",
    "Option 4: Put the money in an interest-bearing checking account that earns 2\\%. The FDIC insures the account against bank failure.\n",
    "\n",
    "a. If you are risk-neutral (that is, neither seek out nor shy away from risk), which of the four options should you choose to maximize your expected return? (*Hint*: To calculate the *expected return* of an outcome, multiply the probability that an event will occur by the outcome of that event.)\n",
    "\n",
    "b. Suppose Option 2 is your only possibility. If you could pay your friend $150 to find out extra information about Mike that would indicate with certainty whether he will leave town without paying, would you pay the \\\\$150? What does this say about the value of better information regarding risk?"
   ]
  },
  {
   "cell_type": "code",
   "execution_count": 7,
   "metadata": {},
   "outputs": [
    {
     "data": {
      "text/plain": [
       "10546.199999999999"
      ]
     },
     "execution_count": 7,
     "metadata": {},
     "output_type": "execute_result"
    }
   ],
   "source": [
    "# option two\n",
    "10500 * 1.08 * (1 - 0.07)"
   ]
  },
  {
   "cell_type": "code",
   "execution_count": 8,
   "metadata": {},
   "outputs": [
    {
     "data": {
      "text/plain": [
       "9922.5"
      ]
     },
     "execution_count": 8,
     "metadata": {},
     "output_type": "execute_result"
    }
   ],
   "source": [
    "# option three\n",
    "10500 * 1.05 * (1 - 0.1)"
   ]
  },
  {
   "cell_type": "code",
   "execution_count": 9,
   "metadata": {},
   "outputs": [
    {
     "data": {
      "text/plain": [
       "10710.0"
      ]
     },
     "execution_count": 9,
     "metadata": {},
     "output_type": "execute_result"
    }
   ],
   "source": [
    "# option four\n",
    "10500 * 1.02"
   ]
  },
  {
   "cell_type": "code",
   "execution_count": 11,
   "metadata": {},
   "outputs": [
    {
     "data": {
      "text/plain": [
       "46.19999999999891"
      ]
     },
     "execution_count": 11,
     "metadata": {},
     "output_type": "execute_result"
    }
   ],
   "source": [
    "# profits of option two\n",
    "10500 * 1.08 * (1 - 0.07) - 10500"
   ]
  },
  {
   "cell_type": "markdown",
   "metadata": {},
   "source": [
    "a. Option 4\n",
    "\n",
    "b. I won't pay. Better information will lower the risk."
   ]
  },
  {
   "cell_type": "markdown",
   "metadata": {},
   "source": [
    "## Data Analysis Problems\n",
    "\n",
    "1. Go to the St. Louis Federal Reserve FRED database, and find data on federal debt held by the Federal Reserve ([FDHBFRBN](https://fred.stlouisfed.org/series/FDHBFRBN)), by private investors ([FDHBPIN](https://fred.stlouisfed.org/series/FDHBPIN)), and by international and foreign investors ([FDHBFIN](https://fred.stlouisfed.org/series/FDHBFIN)). Using these series, calculate the total amount held and the percentage held in each of the three categories for the most recent quarter available. Repeat for the first quarter of 2000, and compare the results."
   ]
  }
 ],
 "metadata": {
  "kernelspec": {
   "display_name": "Python 3",
   "language": "python",
   "name": "python3"
  },
  "language_info": {
   "codemirror_mode": {
    "name": "ipython",
    "version": 3
   },
   "file_extension": ".py",
   "mimetype": "text/x-python",
   "name": "python",
   "nbconvert_exporter": "python",
   "pygments_lexer": "ipython3",
   "version": "3.6.9"
  }
 },
 "nbformat": 4,
 "nbformat_minor": 4
}
