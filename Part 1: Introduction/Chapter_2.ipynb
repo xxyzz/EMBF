{
 "cells": [
  {
   "cell_type": "markdown",
   "metadata": {},
   "source": [
    "# An Overview of the Financial System\n",
    "\n",
    "## Questions\n",
    "\n",
    "1. If I can buy a car today for \\\\$5,000 and it is worth \\\\$10,000 in extra income to me next year because it enables me to get a job as a traveling salesman, should I take out a loan from Larry the Loan Shark at a 90% interest rate if no one else will give me a loan? Will I be better or worse off as a result of taking out this loan? Can you make a case for legalizing loan sharking?"
   ]
  },
  {
   "cell_type": "code",
   "execution_count": 2,
   "metadata": {},
   "outputs": [
    {
     "data": {
      "text/plain": [
       "-4000.0"
      ]
     },
     "execution_count": 2,
     "metadata": {},
     "output_type": "execute_result"
    }
   ],
   "source": [
    "10000 - 5000 - 10000 * 0.9"
   ]
  },
  {
   "cell_type": "markdown",
   "metadata": {},
   "source": [
    "    You shouldn't take the loan. Set a interest rate limit."
   ]
  },
  {
   "cell_type": "markdown",
   "metadata": {},
   "source": [
    "2. Some economists suspect that one of the reasons economies in developing countries grow so slowly is that they do not have well-developed financial markets. Does this argument make sense?\n",
    "\n",
    "    If they don't have too much savers who have excess of funds, financial markets can't exists.\n",
    "    \n",
    "3. Why is a share of Microsoft common stock an asset for its owner and a liability for Microsoft?\n",
    "\n",
    "    Stock entitles the owner to a share of the company’s profits and assets. The borrowers sell the securities which claims on the borrower’s future income or assets.\n",
    "    \n",
    "4. If you suspect that a company will go bankrupt next year, which would you rather hold, bonds issued by the company or equities issued by the company? Why?\n",
    "\n",
    "    Bonds. The corporation must pay all its debt holders before it pays its equity holders.\n",
    "    \n",
    "5. “Because corporations do not actually raise any funds in secondary markets, secondary markets are less important to the economy than primary markets are.” Is this statement true, false, or uncertain?\n",
    "\n",
    "    False.\n",
    "    \n",
    "    1. They make it easier and quicker to sell these financial instruments to raise cash (more liquid).\n",
    "    \n",
    "    2. Secondary markets determine the price in the primary market.\n",
    "    \n",
    "6. Describe who issues each of the following money market instruments:\n",
    "\n",
    "    a. Treasury bills: The federal government\n",
    "    \n",
    "    b. Certificates of deposit: Bank\n",
    "    \n",
    "    c. Commercial paper: Large banks and well-known corporations\n",
    "    \n",
    "    d. Repurchase agreement: Bank\n",
    "    \n",
    "    e. Fed funds: Bank"
   ]
  }
 ],
 "metadata": {
  "kernelspec": {
   "display_name": "Python 3",
   "language": "python",
   "name": "python3"
  },
  "language_info": {
   "codemirror_mode": {
    "name": "ipython",
    "version": 3
   },
   "file_extension": ".py",
   "mimetype": "text/x-python",
   "name": "python",
   "nbconvert_exporter": "python",
   "pygments_lexer": "ipython3",
   "version": "3.6.9"
  }
 },
 "nbformat": 4,
 "nbformat_minor": 4
}
