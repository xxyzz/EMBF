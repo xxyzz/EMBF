{
 "cells": [
  {
   "cell_type": "markdown",
   "metadata": {},
   "source": [
    "# An Overview of the Financial System\n",
    "\n",
    "## Questions\n",
    "\n",
    "1. If I can buy a car today for \\\\$5,000 and it is worth \\\\$10,000 in extra income to me next year because it enables me to get a job as a traveling salesman, should I take out a loan from Larry the Loan Shark at a 90% interest rate if no one else will give me a loan? Will I be better or worse off as a result of taking out this loan? Can you make a case for legalizing loan sharking?"
   ]
  },
  {
   "cell_type": "code",
   "execution_count": 2,
   "metadata": {},
   "outputs": [
    {
     "data": {
      "text/plain": [
       "-4000.0"
      ]
     },
     "execution_count": 2,
     "metadata": {},
     "output_type": "execute_result"
    }
   ],
   "source": [
    "10000 - 5000 - 10000 * 0.9"
   ]
  },
  {
   "cell_type": "markdown",
   "metadata": {},
   "source": [
    "You shouldn't take the loan. Set a interest rate limit."
   ]
  },
  {
   "cell_type": "markdown",
   "metadata": {},
   "source": [
    "2. Some economists suspect that one of the reasons economies in developing countries grow so slowly is that they do not have well-developed financial markets. Does this argument make sense?\n",
    "\n",
    "    If they don't have too much savers who have excess of funds, financial markets can't exists.\n",
    "    \n",
    "3. Why is a share of Microsoft common stock an asset for its owner and a liability for Microsoft?\n",
    "\n",
    "    Stock entitles the owner to a share of the company’s profits and assets. The borrowers sell the securities which claims on the borrower’s future income or assets.\n",
    "    \n",
    "4. If you suspect that a company will go bankrupt next year, which would you rather hold, bonds issued by the company or equities issued by the company? Why?\n",
    "\n",
    "    Bonds. The corporation must pay all its debt holders before it pays its equity holders.\n",
    "    \n",
    "5. “Because corporations do not actually raise any funds in secondary markets, secondary markets are less important to the economy than primary markets are.” Is this statement true, false, or uncertain?\n",
    "\n",
    "    False. First, they make it easier and quicker to sell these financial instruments to raise cash (more liquid). Second, secondary markets determine the price in the primary market.\n",
    "    \n",
    "6. Describe who issues each of the following money market instruments:\n",
    "\n",
    "    a. Treasury bills: The federal government\n",
    "    \n",
    "    b. Certificates of deposit: Bank\n",
    "    \n",
    "    c. Commercial paper: Large banks and well-known corporations\n",
    "    \n",
    "    d. Repurchase agreement: Bank\n",
    "    \n",
    "    e. Fed funds: Bank\n",
    "    \n",
    "7. What is the difference between a *mortgage* and a *mortgage-backed* security?\n",
    "\n",
    "    >Mortgage-backed securities are bond-like debt instruments backed by a bundle of individual mortgages, whose interest and principal payments are collectively paid to the holders of the security\n",
    "    \n",
    "8. The U.S. economy borrowed heavily from the British in the nineteenth century to build a railroad system. Why did this make both countries better off?\n",
    "\n",
    "    The U.S. got money to build railroads and the British got intrest.\n",
    "    \n",
    "9. A significant number of European banks held large amounts of assets as mortgage-backed securities derived from the U.S. housing market, which crashed after 2006. How does this demonstrate both a benefit and a cost to the internationalization of financial markets?\n",
    "\n",
    "    The benifit is it makes financial markets more liquid, the cost is taking more risks from other countries.\n",
    "    \n",
    "10. How does risk sharing benefit both financial intermediaries and private investors?\n",
    "\n",
    "    Sharing the risk by diversify invests makes financial intermediaries earn profits and lower the risk for private investors.\n",
    "    \n",
    "11. How can the adverse selection problem explain why you are more likely to make a loan to a family member than to a stranger?\n",
    "\n",
    "    I know my relatives well, so I know the risk. The information is more symmetric.\n",
    "    \n",
    "12. One of the factors contributing to the financial crisis of 2007–2009 was the widespread issuance of subprime mortgages. How does this demonstrate adverse selection?\n",
    "\n",
    "    The borrowers with bad credit risks are most likely produce an undesirable (adverse) outcome, and they are also more likely to get loans due to asymmetric infomation.\n",
    "    \n",
    "13. Why do loan sharks worry less about moral hazard in connection with their borrowers than some other lenders do?\n",
    "\n",
    "    They don't care what borrowers do and don't fear default.\n",
    "\n",
    "14. If you are an employer, what kinds of moral hazard problems might you worry about with regard to your employees?\n",
    "\n",
    "    Steal technology for authoritarian government.\n",
    "    \n",
    ">Don't f\\*ck me, Eric. Don't you ever try to f\\*ck me.\n",
    ">\n",
    "> -- <cite>Colonel Sanders</cite>\n",
    "    \n",
    "15. If there were no asymmetry in the information that a borrower and a lender had, could a moral hazard problem still exist?\n",
    "    \n",
    "    Maybe not.\n",
    "   \n",
    "16. “In a world without information costs and transaction costs, financial intermediaries would not exist.” Is this statement true, false, or uncertain? Explain your answer.\n",
    "\n",
    "    False. Risk share is important.\n",
    "\n",
    "17. Why might you be willing to make a loan to your neighbor by putting funds in a savings account earning a 5% interest rate at the bank and having the bank lend her the funds at a 10% interest rate, rather than lend her the funds yourself?\n",
    "\n",
    "    The bank can lower the cost and the risk.\n",
    "\n",
    "18. How do conflicts of interest make the asymmetric information problem worse?\n",
    "\n",
    "    People can use asymmetric information to infavor one of or some of their interests.\n",
    "    \n",
    "19. How can the provision of several types of financial services by one firm be both beneficial and problematic?\n",
    "\n",
    "    Pros: lower risk\n",
    "    \n",
    "    Cons: may cause interest conflict\n",
    "\n",
    "20. If you were going to get a loan to purchase a new car, which financial intermediary would you use: a credit union, a pension fund, or an investment bank?\n",
    "\n",
    "    Credit unions, they primarily make consumer loans. The other two are not suitable for a car loan. Pension funds' largest asset holdings are corporate bonds and stocks. Investment bank helps a corporation issue securities.\n",
    "\n",
    "21. Why would a life insurance company be concerned about the financial stability of major corporations or the health of the housing market?\n",
    "\n",
    "    >Contractual savings institutions, such as insurance companies and pension funds, are financial intermediaries that acquire funds at periodic intervals on a contractual basis. Because they can predict with reasonable accuracy how much they will have to pay out in benefits in the coming years, they do not have to worry as much as depository institutions about losing funds quickly. As a result, the liquidity of assets is not as important a consideration for them as it is for depository institutions, and they tend to invest their funds primarily in long-term securities such as corporate bonds, stocks, and mortgages.\n",
    "\n",
    "22. In 2008, as a financial crisis began to unfold in the United States, the FDIC raised the limit on insured losses to bank depositors from \\\\$100,000 per account to \\\\$250,000 per account. How would this help stabilize the financial system?\n",
    "\n",
    "    That will preserves public confidence of the banks, thus stabilize the financial system.\n",
    "    \n",
    "    [Who is the FDIC?](https://www.fdic.gov/about/learn/symbol)"
   ]
  },
  {
   "cell_type": "markdown",
   "metadata": {},
   "source": [
    "## Applied Problems\n",
    "\n",
    "23. Suppose you have just inherited \\\\$10,500 and are considering the following options for investing the money to maximize your return:\n",
    "\n",
    "Option 1: Hold the money in cash and earn zero return.\n",
    "\n",
    "Option 2: Loan the money to one of your friend’s roommates, Mike, at an agreed-upon interest rate of 8\\%, even though you believe there is a 7\\% chance that Mike will leave town without repaying you.\n",
    "\n",
    "Option 3: Invest the money in a corporate bond with a stated return of 5\\%, although there is a 10\\% chance the company could go bankrupt.\n",
    "\n",
    "Option 4: Put the money in an interest-bearing checking account that earns 2\\%. The FDIC insures the account against bank failure.\n",
    "\n",
    "a. If you are risk-neutral (that is, neither seek out nor shy away from risk), which of the four options should you choose to maximize your expected return? (*Hint*: To calculate the *expected return* of an outcome, multiply the probability that an event will occur by the outcome of that event.)\n",
    "\n",
    "b. Suppose Option 2 is your only possibility. If you could pay your friend $150 to find out extra information about Mike that would indicate with certainty whether he will leave town without paying, would you pay the \\\\$150? What does this say about the value of better information regarding risk?"
   ]
  },
  {
   "cell_type": "code",
   "execution_count": 7,
   "metadata": {},
   "outputs": [
    {
     "data": {
      "text/plain": [
       "10546.199999999999"
      ]
     },
     "execution_count": 7,
     "metadata": {},
     "output_type": "execute_result"
    }
   ],
   "source": [
    "# option two\n",
    "10500 * 1.08 * (1 - 0.07)"
   ]
  },
  {
   "cell_type": "code",
   "execution_count": 8,
   "metadata": {},
   "outputs": [
    {
     "data": {
      "text/plain": [
       "9922.5"
      ]
     },
     "execution_count": 8,
     "metadata": {},
     "output_type": "execute_result"
    }
   ],
   "source": [
    "# option three\n",
    "10500 * 1.05 * (1 - 0.1)"
   ]
  },
  {
   "cell_type": "code",
   "execution_count": 9,
   "metadata": {},
   "outputs": [
    {
     "data": {
      "text/plain": [
       "10710.0"
      ]
     },
     "execution_count": 9,
     "metadata": {},
     "output_type": "execute_result"
    }
   ],
   "source": [
    "# option four\n",
    "10500 * 1.02"
   ]
  },
  {
   "cell_type": "code",
   "execution_count": 11,
   "metadata": {},
   "outputs": [
    {
     "data": {
      "text/plain": [
       "46.19999999999891"
      ]
     },
     "execution_count": 11,
     "metadata": {},
     "output_type": "execute_result"
    }
   ],
   "source": [
    "# profits of option two\n",
    "10500 * 1.08 * (1 - 0.07) - 10500"
   ]
  },
  {
   "cell_type": "markdown",
   "metadata": {},
   "source": [
    "a. Option 4\n",
    "\n",
    "b. I won't pay. Better information will lower the risk."
   ]
  },
  {
   "cell_type": "markdown",
   "metadata": {},
   "source": [
    "## Data Analysis Problems\n",
    "\n",
    "1. Go to the St. Louis Federal Reserve FRED database, and find data on federal debt held by the Federal Reserve ([FDHBFRBN](https://fred.stlouisfed.org/series/FDHBFRBN)), by private investors ([FDHBPIN](https://fred.stlouisfed.org/series/FDHBPIN)), and by international and foreign investors ([FDHBFIN](https://fred.stlouisfed.org/series/FDHBFIN)). Using these series, calculate the total amount held and the percentage held in each of the three categories for the most recent quarter available. Repeat for the first quarter of 2000, and compare the results.\n",
    "\n",
    "[Federal Debt Held by Agencies and Trusts (FDHBATN)](https://fred.stlouisfed.org/series/FDHBATN)\n",
    "\n",
    "[The depth and breadth of the federal debt](https://fredblog.stlouisfed.org/2017/03/the-depth-and-breadth-of-the-federal-debt/)"
   ]
  },
  {
   "cell_type": "code",
   "execution_count": 85,
   "metadata": {},
   "outputs": [],
   "source": [
    "import pandas as pd\n",
    "FDHBFRBN_df = pd.read_csv(\"https://fred.stlouisfed.org/graph/fredgraph.csv?bgcolor=%23e1e9f0&chart_type=line&drp=0&fo=open%20sans&graph_bgcolor=%23ffffff&height=450&mode=fred&recession_bars=on&txtcolor=%23444444&ts=12&tts=12&width=1168&nt=0&thu=0&trc=0&show_legend=yes&show_axis_titles=yes&show_tooltip=yes&id=FDHBFRBN&scale=left&cosd=1970-01-01&coed=2019-04-01&line_color=%234572a7&link_values=false&line_style=solid&mark_type=none&mw=3&lw=2&ost=-99999&oet=99999&mma=0&fml=a&fq=Quarterly%2C%20End%20of%20Period&fam=avg&fgst=lin&fgsnd=2009-06-01&line_index=1&transformation=lin&vintage_date=2019-11-10&revision_date=2019-11-10&nd=1970-01-01\")\n",
    "FDHBPIN_df = pd.read_csv(\"https://fred.stlouisfed.org/graph/fredgraph.csv?bgcolor=%23e1e9f0&chart_type=line&drp=0&fo=open%20sans&graph_bgcolor=%23ffffff&height=450&mode=fred&recession_bars=on&txtcolor=%23444444&ts=12&tts=12&width=1168&nt=0&thu=0&trc=0&show_legend=yes&show_axis_titles=yes&show_tooltip=yes&id=FDHBPIN&scale=left&cosd=1970-01-01&coed=2019-04-01&line_color=%234572a7&link_values=false&line_style=solid&mark_type=none&mw=3&lw=2&ost=-99999&oet=99999&mma=0&fml=a&fq=Quarterly%2C%20End%20of%20Period&fam=avg&fgst=lin&fgsnd=2009-06-01&line_index=1&transformation=lin&vintage_date=2019-11-10&revision_date=2019-11-10&nd=1970-01-01\")\n",
    "FDHBFIN_df = pd.read_csv(\"https://fred.stlouisfed.org/graph/fredgraph.csv?bgcolor=%23e1e9f0&chart_type=line&drp=0&fo=open%20sans&graph_bgcolor=%23ffffff&height=450&mode=fred&recession_bars=on&txtcolor=%23444444&ts=12&tts=12&width=1168&nt=0&thu=0&trc=0&show_legend=yes&show_axis_titles=yes&show_tooltip=yes&id=FDHBFIN&scale=left&cosd=1970-01-01&coed=2019-04-01&line_color=%234572a7&link_values=false&line_style=solid&mark_type=none&mw=3&lw=2&ost=-99999&oet=99999&mma=0&fml=a&fq=Quarterly%2C%20End%20of%20Period&fam=avg&fgst=lin&fgsnd=2009-06-01&line_index=1&transformation=lin&vintage_date=2019-11-10&revision_date=2019-11-10&nd=1970-01-01\")\n",
    "FDHBATN_df = pd.read_csv(\"https://fred.stlouisfed.org/graph/fredgraph.csv?bgcolor=%23e1e9f0&chart_type=line&drp=0&fo=open%20sans&graph_bgcolor=%23ffffff&height=450&mode=fred&recession_bars=on&txtcolor=%23444444&ts=12&tts=12&width=1168&nt=0&thu=0&trc=0&show_legend=yes&show_axis_titles=yes&show_tooltip=yes&id=FDHBATN&scale=left&cosd=1981-01-01&coed=2019-04-01&line_color=%234572a7&link_values=false&line_style=solid&mark_type=none&mw=3&lw=2&ost=-99999&oet=99999&mma=0&fml=a&fq=Quarterly%2C%20End%20of%20Period&fam=avg&fgst=lin&fgsnd=2009-06-01&line_index=1&transformation=lin&vintage_date=2019-11-11&revision_date=2019-11-11&nd=1981-01-01\")"
   ]
  },
  {
   "cell_type": "code",
   "execution_count": 93,
   "metadata": {},
   "outputs": [
    {
     "name": "stdout",
     "output_type": "stream",
     "text": [
      "Total amount of federal debt for the latest quarter: 28986.048\n",
      "percentage held of FDHBFRBN: 8.462%\n",
      "percentage held of FDHBPIN: 48.570%\n",
      "percentage held of FDHBFIN: 22.895%\n",
      "percentage held of FDHBATN: 20.074%\n"
     ]
    }
   ],
   "source": [
    "latest_FDHBFRBN = FDHBFRBN_df.iloc[-1]['FDHBFRBN']\n",
    "latest_FDHBPIN = FDHBPIN_df.iloc[-1]['FDHBPIN']\n",
    "latest_FDHBFIN = FDHBFIN_df.iloc[-1]['FDHBFIN']\n",
    "latest_FDHBATN = FDHBATN_df.iloc[-1]['FDHBATN'] / 1000 # million to billion\n",
    "latest_total = latest_FDHBFRBN + latest_FDHBPIN + latest_FDHBFIN + latest_FDHBATN\n",
    "\n",
    "print(f'Total amount of federal debt for the latest quarter: {latest_total:.3f}')\n",
    "print(f'percentage held of FDHBFRBN: {(latest_FDHBFRBN / latest_total * 100):.3f}%')\n",
    "print(f'percentage held of FDHBPIN: {(latest_FDHBPIN / latest_total * 100):.3f}%')\n",
    "print(f'percentage held of FDHBFIN: {(latest_FDHBFIN / latest_total * 100):.3f}%')\n",
    "print(f'percentage held of FDHBATN: {(latest_FDHBATN / latest_total * 100):.3f}%')"
   ]
  },
  {
   "cell_type": "code",
   "execution_count": 94,
   "metadata": {},
   "outputs": [
    {
     "name": "stdout",
     "output_type": "stream",
     "text": [
      "Total amount of federal debt for the first quarter of 2000: 6854.918\n",
      "percentage held of FDHBFRBN: 7.319%\n",
      "percentage held of FDHBPIN: 46.431%\n",
      "percentage held of FDHBFIN: 15.828%\n",
      "percentage held of FDHBATN: 30.422%\n"
     ]
    }
   ],
   "source": [
    "two_thousand_FDHBFRBN = FDHBFRBN_df.loc[FDHBFRBN_df['DATE'] == '2000-01-01']['FDHBFRBN'].values[0]\n",
    "two_thousand_FDHBPIN = FDHBPIN_df.loc[FDHBPIN_df['DATE'] == '2000-01-01']['FDHBPIN'].values[0]\n",
    "two_thousand_FDHBFIN = FDHBFIN_df.loc[FDHBFIN_df['DATE'] == '2000-01-01']['FDHBFIN'].values[0]\n",
    "two_thousand_FDHBATN = FDHBATN_df.loc[FDHBATN_df['DATE'] == '2000-01-01']['FDHBATN'].values[0] / 1000\n",
    "two_thousand_total = two_thousand_FDHBFRBN + two_thousand_FDHBPIN + two_thousand_FDHBFIN + two_thousand_FDHBATN\n",
    "\n",
    "print(f'Total amount of federal debt for the first quarter of 2000: {two_thousand_total:.3f}')\n",
    "print(f'percentage held of FDHBFRBN: {(two_thousand_FDHBFRBN / two_thousand_total * 100):.3f}%')\n",
    "print(f'percentage held of FDHBPIN: {(two_thousand_FDHBPIN / two_thousand_total * 100):.3f}%')\n",
    "print(f'percentage held of FDHBFIN: {(two_thousand_FDHBFIN  / two_thousand_total * 100):.3f}%')\n",
    "print(f'percentage held of FDHBATN: {(two_thousand_FDHBATN  / two_thousand_total * 100):.3f}%')"
   ]
  },
  {
   "cell_type": "markdown",
   "metadata": {},
   "source": [
    "2. Go to the St. Louis Federal Reserve FRED database, and find data on the total assets of all commercial banks ([TLAACBM027SBOG](https://fred.stlouisfed.org/series/TLAACBM027SBOG)) and the total assets of money market mutual funds ([MMMFFAQ027S](https://fred.stlouisfed.org/series/MMMFFAQ027S)). Transform the commercial bank assets series to quarterly by adjusting the Frequency setting to “Quarterly.” Calculate the percent increase in growth of assets for each series, from January 2000 to the most recent quarter available. Which of the two financial intermediaries has experienced the most growth?"
   ]
  },
  {
   "cell_type": "code",
   "execution_count": 101,
   "metadata": {},
   "outputs": [],
   "source": [
    "commercial_banks = pd.read_csv('https://fred.stlouisfed.org/graph/fredgraph.csv?bgcolor=%23e1e9f0&chart_type=line&drp=0&fo=open%20sans&graph_bgcolor=%23ffffff&height=450&mode=fred&recession_bars=on&txtcolor=%23444444&ts=12&tts=12&width=1168&nt=0&thu=0&trc=0&show_legend=yes&show_axis_titles=yes&show_tooltip=yes&id=TLAACBM027SBOG&scale=left&cosd=1973-01-01&coed=2019-09-01&line_color=%234572a7&link_values=false&line_style=solid&mark_type=none&mw=3&lw=2&ost=-99999&oet=99999&mma=0&fml=a&fq=Quarterly&fam=avg&fgst=lin&fgsnd=2009-06-01&line_index=1&transformation=lin&vintage_date=2019-11-11&revision_date=2019-11-11&nd=1973-01-01')\n",
    "mutual_funds = pd.read_csv('https://fred.stlouisfed.org/graph/fredgraph.csv?bgcolor=%23e1e9f0&chart_type=line&drp=0&fo=open%20sans&graph_bgcolor=%23ffffff&height=450&mode=fred&recession_bars=on&txtcolor=%23444444&ts=12&tts=12&width=1168&nt=0&thu=0&trc=0&show_legend=yes&show_axis_titles=yes&show_tooltip=yes&id=MMMFFAQ027S&scale=left&cosd=1945-10-01&coed=2019-04-01&line_color=%234572a7&link_values=false&line_style=solid&mark_type=none&mw=3&lw=2&ost=-99999&oet=99999&mma=0&fml=a&fq=Quarterly&fam=avg&fgst=lin&fgsnd=2009-06-01&line_index=1&transformation=lin&vintage_date=2019-11-11&revision_date=2019-11-11&nd=1945-10-01')"
   ]
  },
  {
   "cell_type": "code",
   "execution_count": 111,
   "metadata": {},
   "outputs": [
    {
     "name": "stdout",
     "output_type": "stream",
     "text": [
      "Growth of commercial banks: 209.144%\n",
      "Growth of nutual funds: 89.011%\n"
     ]
    }
   ],
   "source": [
    "two_thousand_commercial_banks = commercial_banks.loc[commercial_banks['DATE'] == '2000-01-01']['TLAACBM027SBOG'].values[0]\n",
    "two_thousand_mutual_funds = float(mutual_funds.loc[mutual_funds['DATE'] == '2000-01-01']['MMMFFAQ027S'])\n",
    "\n",
    "print(f'Growth of commercial banks: {((commercial_banks.iloc[-1][1] - two_thousand_commercial_banks) / two_thousand_commercial_banks * 100):.3f}%')\n",
    "print(f'Growth of nutual funds: {((float(mutual_funds.iloc[-1][1]) - two_thousand_mutual_funds) / two_thousand_mutual_funds * 100):.3f}%')"
   ]
  },
  {
   "cell_type": "markdown",
   "metadata": {},
   "source": [
    "## Web Exercises\n",
    "\n",
    "1. One of the single best sources of information about financial institutions is the U.S. Flow of Funds report, produced by the Federal Reserve. This document contains data on most financial intermediaries. Go to http://www.federalreserve.gov/releases/Z1/ and find the most current release. You may have to get Acrobat Reader if your computer does not already have it; the site has a link for a free download. Go to the Level Tables and answer the following questions.\n",
    "\n",
    "a. What percentage of assets do commercial banks hold in loans? What percentage of assets is held in mortgage loans?\n",
    "\n",
    "b. What percentage of assets do savings and loans hold in morgtage loans?\n",
    "\n",
    "c. What percentage of assets do credit unions hold in mortgage loans and in consumer loans?\n",
    "\n",
    "I use the 2019 Q2 data here.\n",
    "\n",
    "[L.100 Domestic Nonfinancial Sectors (1)](https://www.federalreserve.gov/releases/z1/20190920/html/l100.htm)\n",
    "\n",
    "Domestic nonfinancial sectors; total financial assets: 122848.7\n",
    "\n",
    "[L.214 Loans](https://www.federalreserve.gov/releases/z1/20190920/html/l214.htm)\n",
    "\n",
    "All sectors; total loans; liability: 27663.1\n",
    "\n",
    "All sectors; total mortgages; asset: 15627.0\n",
    "\n",
    "U.S.-chartered depository institutions; loans; asset: 9570.2\n",
    "\n",
    "[L.222 Consumer Credit](https://www.federalreserve.gov/releases/z1/20190920/html/l222.htm)\n",
    "\n",
    "Households and nonprofit organizations; consumer credit; liability: 4056.5\n",
    "\n",
    "Credit unions; consumer credit; asset: 476.1\n",
    "\n",
    "[L.217 Total Mortgages (1)](https://www.federalreserve.gov/releases/z1/20190920/html/l217.htm)\n",
    "\n",
    "Credit unions; home mortgages; asset: 538.7"
   ]
  },
  {
   "cell_type": "code",
   "execution_count": 5,
   "metadata": {},
   "outputs": [
    {
     "name": "stdout",
     "output_type": "stream",
     "text": [
      "percentage of assets commercial banks hold in loans: 34.596\n",
      "percentage of assets is held in mortgage loans: 12.721\n",
      "percentage of assets credit unions hold in mortgage loans: 3.447\n",
      "percentage of assets credit unions hold in consumer loans: 11.737\n"
     ]
    }
   ],
   "source": [
    "print(f'percentage of assets commercial banks hold in loans: {(9570.2 / 27663.1 * 100):.3f}')\n",
    "print(f'percentage of assets is held in mortgage loans: {(15627.0 / 122848.7 * 100):.3f}')\n",
    "print(f'percentage of assets credit unions hold in mortgage loans: {(538.7 / 15627.0 * 100):.3f}')\n",
    "print(f'percentage of assets credit unions hold in consumer loans: {(476.1 / 4056.5 * 100):.3f}')"
   ]
  }
 ],
 "metadata": {
  "kernelspec": {
   "display_name": "Python 3",
   "language": "python",
   "name": "python3"
  },
  "language_info": {
   "codemirror_mode": {
    "name": "ipython",
    "version": 3
   },
   "file_extension": ".py",
   "mimetype": "text/x-python",
   "name": "python",
   "nbconvert_exporter": "python",
   "pygments_lexer": "ipython3",
   "version": "3.6.9"
  }
 },
 "nbformat": 4,
 "nbformat_minor": 4
}
