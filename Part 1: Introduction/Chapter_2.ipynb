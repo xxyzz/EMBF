{
 "cells": [
  {
   "cell_type": "markdown",
   "metadata": {},
   "source": [
    "# An Overview of the Financial System\n",
    "\n",
    "## Questions\n",
    "\n",
    "1. If I can buy a car today for \\\\$5,000 and it is worth \\\\$10,000 in extra income to me next year because it enables me to get a job as a traveling salesman, should I take out a loan from Larry the Loan Shark at a 90% interest rate if no one else will give me a loan? Will I be better or worse off as a result of taking out this loan? Can you make a case for legalizing loan sharking?"
   ]
  },
  {
   "cell_type": "code",
   "execution_count": 2,
   "metadata": {},
   "outputs": [
    {
     "data": {
      "text/plain": [
       "-4000.0"
      ]
     },
     "execution_count": 2,
     "metadata": {},
     "output_type": "execute_result"
    }
   ],
   "source": [
    "10000 - 5000 - 10000 * 0.9"
   ]
  },
  {
   "cell_type": "markdown",
   "metadata": {},
   "source": [
    "You shouldn't take the loan. Set a interest rate limit."
   ]
  },
  {
   "cell_type": "markdown",
   "metadata": {},
   "source": [
    "2. Some economists suspect that one of the reasons economies in developing countries grow so slowly is that they do not have well-developed financial markets. Does this argument make sense?\n",
    "\n",
    "    If they don't have too much savers who have excess of funds, financial markets can't exists.\n",
    "    \n",
    "3. Why is a share of Microsoft common stock an asset for its owner and a liability for Microsoft?\n",
    "\n",
    "    Stock entitles the owner to a share of the company’s profits and assets. The borrowers sell the securities which claims on the borrower’s future income or assets.\n",
    "    \n",
    "4. If you suspect that a company will go bankrupt next year, which would you rather hold, bonds issued by the company or equities issued by the company? Why?\n",
    "\n",
    "    Bonds. The corporation must pay all its debt holders before it pays its equity holders.\n",
    "    \n",
    "5. “Because corporations do not actually raise any funds in secondary markets, secondary markets are less important to the economy than primary markets are.” Is this statement true, false, or uncertain?\n",
    "\n",
    "    False. First, they make it easier and quicker to sell these financial instruments to raise cash (more liquid). Second, secondary markets determine the price in the primary market.\n",
    "    \n",
    "6. Describe who issues each of the following money market instruments:\n",
    "\n",
    "    a. Treasury bills: The federal government\n",
    "    \n",
    "    b. Certificates of deposit: Bank\n",
    "    \n",
    "    c. Commercial paper: Large banks and well-known corporations\n",
    "    \n",
    "    d. Repurchase agreement: Bank\n",
    "    \n",
    "    e. Fed funds: Bank\n",
    "    \n",
    "7. What is the difference between a *mortgage* and a *mortgage-backed* security?\n",
    "\n",
    "    >Mortgage-backed securities are bond-like debt instruments backed by a bundle of individual mortgages, whose interest and principal payments are collectively paid to the holders of the security\n",
    "    \n",
    "8. The U.S. economy borrowed heavily from the British in the nineteenth century to build a railroad system. Why did this make both countries better off?\n",
    "\n",
    "    The U.S. got money to build railroads and the British got intrest.\n",
    "    \n",
    "9. A significant number of European banks held large amounts of assets as mortgage-backed securities derived from the U.S. housing market, which crashed after 2006. How does this demonstrate both a benefit and a cost to the internationalization of financial markets?\n",
    "\n",
    "    The benifit is it makes financial markets more liquid, the cost is taking more risks from other countries.\n",
    "    \n",
    "10. How does risk sharing benefit both financial intermediaries and private investors?\n",
    "\n",
    "    Sharing the risk by diversify invests makes financial intermediaries earn profits and lower the risk for private investors.\n",
    "    \n",
    "11. How can the adverse selection problem explain why you are more likely to make a loan to a family member than to a stranger?\n",
    "\n",
    "    I know my relatives well, so I know the risk. The information is more symmetric.\n",
    "    \n",
    "12. One of the factors contributing to the financial crisis of 2007–2009 was the widespread issuance of subprime mortgages. How does this demonstrate adverse selection?\n",
    "\n",
    "    The borrowers with bad credit risks are most likely produce an undesirable (adverse) outcome, and they are also more likely to get loans due to asymmetric infomation.\n",
    "    \n",
    "13. Why do loan sharks worry less about moral hazard in connection with their borrowers than some other lenders do?\n",
    "\n",
    "    They don't care what borrowers do and don't fear default.\n",
    "\n",
    "14. If you are an employer, what kinds of moral hazard problems might you worry about with regard to your employees?\n",
    "\n",
    "    Steal technology for authoritarian government.\n",
    "    \n",
    ">Don't f\\*ck me, Eric. Don't you ever try to f\\*ck me.\n",
    ">\n",
    "> -- <cite>Colonel Sanders<cite>"
   ]
  }
 ],
 "metadata": {
  "kernelspec": {
   "display_name": "Python 3",
   "language": "python",
   "name": "python3"
  },
  "language_info": {
   "codemirror_mode": {
    "name": "ipython",
    "version": 3
   },
   "file_extension": ".py",
   "mimetype": "text/x-python",
   "name": "python",
   "nbconvert_exporter": "python",
   "pygments_lexer": "ipython3",
   "version": "3.6.9"
  }
 },
 "nbformat": 4,
 "nbformat_minor": 4
}
