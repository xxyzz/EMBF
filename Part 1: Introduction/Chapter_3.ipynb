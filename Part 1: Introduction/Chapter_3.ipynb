{
 "cells": [
  {
   "cell_type": "markdown",
   "metadata": {},
   "source": [
    "# What is money?\n",
    "\n",
    "## Questions\n",
    "\n",
    "1. Why is simply counting currency an inadequate measure of money?\n",
    "\n",
    "    Checks, checking account deposits and wealth also count as money.\n",
    "\n",
    "2. In prison, cigarettes are sometimes used among inmates as a form of payment. How is it possible for cigarettes to solve the “double coincidence of wants” problem, even if a prisoner does not smoke?\n",
    "\n",
    "    As long as cigarettes can exchange anything, have storage value and as an unit of account, they become money.\n",
    "\n",
    "3. Three goods are produced in an economy by three individuals:\n",
    "\n",
    "| *Good* | *Producer* |\n",
    "| --- | ---: |\n",
    "| Apples | Orchard owner |\n",
    "| Bananas | Banana grower |\n",
    "| Chocolate | Chocolatier |\n",
    "\n",
    "    If the orchard owner likes only bananas, the banana grower likes only chocolate, and the chocolatier likes only apples, will any trade between these three persons take place in a barter economy? How will introducing money into the economy benefit these three producers?\n",
    "    \n",
    "    No. They don't need to waste time on finding \"double coincidence of wants\".\n",
    "    \n",
    "4. Why did cavemen not need money?\n",
    "\n",
    "    They don't have much things to exchange.\n",
    "    \n",
    "5. Most of the time it is quite difficult to separate the three functions of money. Money performs its three functions at all times, but sometimes we can stress one in particular. For each of the following situations, identify which function of money is emphasized.\n",
    "\n",
    "    a. Brooke accepts money in exchange for performing her daily tasks at her office, since she knows she can use that money to buy goods and services.\n",
    "    \n",
    "    b. Tim wants to calculate the relative value of oranges and apples, and therefore checks the price per pound of each of these goods as quoted in currency units.\n",
    "    \n",
    "    c. Maria is currently pregnant. She expects her expenditures to increase in the future and decides to increase the balance in her savings account.\n",
    "    \n",
    "    a: medium of exchange\n",
    "    \n",
    "    b: unit of account\n",
    "    \n",
    "    c: store of value\n",
    "    \n",
    "6. In Brazil, a country that underwent a rapid inflation before 1994, many transactions were conducted in dollars rather than in reals, the domestic currency. Why?\n",
    "\n",
    "    Inflation made Brazilians didn't trust their own currency.\n",
    "    \n",
    "7. Was money a better store of value in the United States in the 1950s than in the 1970s? Why or why not? In which period would you have been more willing to hold money?\n",
    "\n",
    "    ![](https://fred.stlouisfed.org/graph/fredgraph.png?g=lXs0)\n",
    "    \n",
    "    Inflation is higher in the 1970s, so it's better hold money in the 1950s.\n",
    "    \n",
    "8. Why have some economists described money during a hyperinflation as a “hot potato” that is quickly passed from one person to another?\n",
    "\n",
    "    You don't want hold bunch of waste paper.\n",
    "    \n",
    "9. Why were people in the United States in the nineteenth century sometimes willing to be paid by check rather than with gold, even though they knew there was a possibility that the check might bounce?\n",
    "\n",
    "    Gold is heavy.\n",
    "    \n",
    "10. In ancient Greece, why was gold a more likely candidate for use as money than wine?\n",
    "\n",
    "    Wine doesn't meet most of the criteria of money:\n",
    "    \n",
    "    (1) It must be easily standardized, making it simple to ascertain its value;\n",
    "    \n",
    "    (2) it must be widely accepted;\n",
    "    \n",
    "    (3) it must be divisible, so that it is easy to “make change”;\n",
    "    \n",
    "    (4) it must be easy to carry;\n",
    "    \n",
    "    (5) it must not deteriorate quickly.\n",
    "    \n",
    "11. If you use an online payment system such as PayPal to purchase goods or services on the Internet, does this affect the M1 money supply, the M2 money supply, both, or neither? Explain.\n",
    "\n",
    "    PayPal needs to link to debit card or credit card, that will affect demand deposit, so it also affect both M1 and M2.\n",
    "    \n",
    "12. Rank the following assets from most liquid to least liquid:\n",
    "\n",
    "    a. Checking account deposits\n",
    "    \n",
    "    b. Houses\n",
    "    \n",
    "    c. Currency\n",
    "    \n",
    "    d. Automobiles\n",
    "    \n",
    "    e. Savings deposits\n",
    "    \n",
    "    f. Common stock\n",
    "    \n",
    "    c a e f d b\n",
    "    \n",
    "13. Which of the Federal Reserve’s measures of the monetary aggregates—M1 or M2—is composed of the most liquid assets? Which is the larger measure?\n",
    "\n",
    "    M1, M2.\n",
    "    \n",
    "14. It is not unusual to find a business that displays a sign saying “no personal checks, please.” On the basis of this observation, comment on the relative degree of liquidity of a checking account versus currency.\n",
    "\n",
    "    Checking account is less liquid then currency.\n",
    "    \n",
    "15. For each of the following assets, indicate which of the monetary aggregates (M1 and M2) includes them:\n",
    "\n",
    "    a. Currency\n",
    "    \n",
    "    b. Money market mutual funds\n",
    "    \n",
    "    c. Small-denomination time deposits\n",
    "    \n",
    "    d. Checkable deposits\n",
    "    \n",
    "    M1: a d\n",
    "    \n",
    "    M2: b c\n",
    "    \n",
    "16. Assume that you are interested in earning some return on the idle balances you usually keep in your checking account and decide to buy some money market mutual funds shares by writing a check. Comment on the effect of your action (with everything else the same) on M1 and M2.\n",
    "\n",
    "    M1 will decrese, M2 doesn't change.\n",
    "    \n",
    "17. In April 2009, the growth rate of M1 fell to 6.1%, while the growth rate of M2 rose to 10.3%. In September 2013, the year-over-year growth rate of the M1 money supply was 6.5%, while the growth rate of the M2 money supply was about 8.3%. How should Federal Reserve policymakers interpret these changes in the growth rates of M1 and M2?\n",
    "\n",
    "    From 2009 to 2013, the M1 growth rate increased by 0.4%, the growth rate of M2 fell by 2%. They moved in the opposite direction, it's hard for policymakers to choose the best policy.\n",
    "    \n",
    "18. Suppose a researcher discovers that a measure of the total amount of debt in the U.S. economy over the past twenty years was a better predictor of inflation and the business cycle than M1 or M2. Does this discovery mean that we should define money as equal to the total amount of debt in the economy?\n",
    "\n",
    "    If there are no debts, there will be no money. That doesn't make sense.\n",
    "    \n",
    "## Applied problems\n",
    "\n",
    "19. The table below shows hypothetical values, in billions of dollars, of different forms of money.\n",
    "\n",
    "    a. Use the table to calculate the M1 and M2 money supplies for each year, as well as the growth rates of the M1 and M2 money supplies from the previous year.\n",
    "    \n",
    "    b. Why are the growth rates of M1 and M2 so different? Explain."
   ]
  },
  {
   "cell_type": "code",
   "execution_count": 2,
   "metadata": {},
   "outputs": [
    {
     "data": {
      "text/html": [
       "<div>\n",
       "<style scoped>\n",
       "    .dataframe tbody tr th:only-of-type {\n",
       "        vertical-align: middle;\n",
       "    }\n",
       "\n",
       "    .dataframe tbody tr th {\n",
       "        vertical-align: top;\n",
       "    }\n",
       "\n",
       "    .dataframe thead th {\n",
       "        text-align: right;\n",
       "    }\n",
       "</style>\n",
       "<table border=\"1\" class=\"dataframe\">\n",
       "  <thead>\n",
       "    <tr style=\"text-align: right;\">\n",
       "      <th></th>\n",
       "      <th>2009</th>\n",
       "      <th>2010</th>\n",
       "      <th>2011</th>\n",
       "      <th>2012</th>\n",
       "    </tr>\n",
       "  </thead>\n",
       "  <tbody>\n",
       "    <tr>\n",
       "      <td>Currency</td>\n",
       "      <td>950</td>\n",
       "      <td>960</td>\n",
       "      <td>962</td>\n",
       "      <td>967</td>\n",
       "    </tr>\n",
       "    <tr>\n",
       "      <td>Money market mutual fund shares</td>\n",
       "      <td>677</td>\n",
       "      <td>678</td>\n",
       "      <td>676</td>\n",
       "      <td>685</td>\n",
       "    </tr>\n",
       "    <tr>\n",
       "      <td>Saving account deposits</td>\n",
       "      <td>5600</td>\n",
       "      <td>5880</td>\n",
       "      <td>6068</td>\n",
       "      <td>6205</td>\n",
       "    </tr>\n",
       "    <tr>\n",
       "      <td>Money market deposit accounts</td>\n",
       "      <td>1200</td>\n",
       "      <td>1231</td>\n",
       "      <td>1260</td>\n",
       "      <td>1315</td>\n",
       "    </tr>\n",
       "    <tr>\n",
       "      <td>Demand and checkable deposits</td>\n",
       "      <td>1010</td>\n",
       "      <td>982</td>\n",
       "      <td>990</td>\n",
       "      <td>1003</td>\n",
       "    </tr>\n",
       "    <tr>\n",
       "      <td>Small-denomination time deposits</td>\n",
       "      <td>830</td>\n",
       "      <td>861</td>\n",
       "      <td>1123</td>\n",
       "      <td>1566</td>\n",
       "    </tr>\n",
       "    <tr>\n",
       "      <td>Traveler’s checks</td>\n",
       "      <td>4</td>\n",
       "      <td>4</td>\n",
       "      <td>3</td>\n",
       "      <td>2</td>\n",
       "    </tr>\n",
       "    <tr>\n",
       "      <td>3-month Treasury bills</td>\n",
       "      <td>1996</td>\n",
       "      <td>2384</td>\n",
       "      <td>2446</td>\n",
       "      <td>2512</td>\n",
       "    </tr>\n",
       "  </tbody>\n",
       "</table>\n",
       "</div>"
      ],
      "text/plain": [
       "                                  2009  2010  2011  2012\n",
       "Currency                           950   960   962   967\n",
       "Money market mutual fund shares    677   678   676   685\n",
       "Saving account deposits           5600  5880  6068  6205\n",
       "Money market deposit accounts     1200  1231  1260  1315\n",
       "Demand and checkable deposits     1010   982   990  1003\n",
       "Small-denomination time deposits   830   861  1123  1566\n",
       "Traveler’s checks                    4     4     3     2\n",
       "3-month Treasury bills            1996  2384  2446  2512"
      ]
     },
     "execution_count": 2,
     "metadata": {},
     "output_type": "execute_result"
    }
   ],
   "source": [
    "import pandas as pd\n",
    "indexes = [\"Currency\", \"Money market mutual fund shares\", \"Saving account deposits\",\n",
    "           \"Money market deposit accounts\", \"Demand and checkable deposits\", \"Small-denomination time deposits\", \n",
    "           \"Traveler’s checks\", \"3-month Treasury bills\"]\n",
    "columns = [2009, 2010, 2011, 2012]\n",
    "data = [[950,     960,   962,   967],\n",
    "        [677,     678,   676,   685],\n",
    "        [5_600, 5_880, 6_068, 6_205],\n",
    "        [1_200, 1_231, 1_260, 1_315],\n",
    "        [1_010,   982,   990, 1_003],\n",
    "        [  830,   861, 1_123, 1_566],\n",
    "        [    4,     4,     3,     2],\n",
    "        [1_996, 2_384, 2_446, 2_512]]\n",
    "df = pd.DataFrame(data, index=indexes, columns=columns)\n",
    "df"
   ]
  },
  {
   "cell_type": "code",
   "execution_count": 39,
   "metadata": {},
   "outputs": [
    {
     "data": {
      "text/html": [
       "<div>\n",
       "<style scoped>\n",
       "    .dataframe tbody tr th:only-of-type {\n",
       "        vertical-align: middle;\n",
       "    }\n",
       "\n",
       "    .dataframe tbody tr th {\n",
       "        vertical-align: top;\n",
       "    }\n",
       "\n",
       "    .dataframe thead th {\n",
       "        text-align: right;\n",
       "    }\n",
       "</style>\n",
       "<table border=\"1\" class=\"dataframe\">\n",
       "  <thead>\n",
       "    <tr style=\"text-align: right;\">\n",
       "      <th></th>\n",
       "      <th>2009</th>\n",
       "      <th>2010</th>\n",
       "      <th>2011</th>\n",
       "      <th>2012</th>\n",
       "    </tr>\n",
       "  </thead>\n",
       "  <tbody>\n",
       "    <tr>\n",
       "      <td>Currency</td>\n",
       "      <td>950</td>\n",
       "      <td>960</td>\n",
       "      <td>962</td>\n",
       "      <td>967</td>\n",
       "    </tr>\n",
       "    <tr>\n",
       "      <td>Traveler’s checks</td>\n",
       "      <td>4</td>\n",
       "      <td>4</td>\n",
       "      <td>3</td>\n",
       "      <td>2</td>\n",
       "    </tr>\n",
       "    <tr>\n",
       "      <td>Demand and checkable deposits</td>\n",
       "      <td>1010</td>\n",
       "      <td>982</td>\n",
       "      <td>990</td>\n",
       "      <td>1003</td>\n",
       "    </tr>\n",
       "  </tbody>\n",
       "</table>\n",
       "</div>"
      ],
      "text/plain": [
       "                               2009  2010  2011  2012\n",
       "Currency                        950   960   962   967\n",
       "Traveler’s checks                 4     4     3     2\n",
       "Demand and checkable deposits  1010   982   990  1003"
      ]
     },
     "execution_count": 39,
     "metadata": {},
     "output_type": "execute_result"
    }
   ],
   "source": [
    "M1_assets = [\"Currency\", \"Traveler’s checks\", \"Demand and checkable deposits\"]\n",
    "M1_df = df.loc[M1_assets]\n",
    "M1_df"
   ]
  },
  {
   "cell_type": "code",
   "execution_count": 40,
   "metadata": {},
   "outputs": [
    {
     "data": {
      "text/plain": [
       "2009    1964\n",
       "2010    1946\n",
       "2011    1955\n",
       "2012    1972\n",
       "dtype: int64"
      ]
     },
     "execution_count": 40,
     "metadata": {},
     "output_type": "execute_result"
    }
   ],
   "source": [
    "M1_df.sum()"
   ]
  },
  {
   "cell_type": "code",
   "execution_count": 52,
   "metadata": {},
   "outputs": [
    {
     "data": {
      "text/plain": [
       "2009         NaN\n",
       "2010   -0.009165\n",
       "2011    0.004625\n",
       "2012    0.008696\n",
       "dtype: float64"
      ]
     },
     "execution_count": 52,
     "metadata": {},
     "output_type": "execute_result"
    }
   ],
   "source": [
    "# M1 growth rate\n",
    "M1_df.sum().pct_change()"
   ]
  },
  {
   "cell_type": "code",
   "execution_count": 41,
   "metadata": {},
   "outputs": [
    {
     "data": {
      "text/html": [
       "<div>\n",
       "<style scoped>\n",
       "    .dataframe tbody tr th:only-of-type {\n",
       "        vertical-align: middle;\n",
       "    }\n",
       "\n",
       "    .dataframe tbody tr th {\n",
       "        vertical-align: top;\n",
       "    }\n",
       "\n",
       "    .dataframe thead th {\n",
       "        text-align: right;\n",
       "    }\n",
       "</style>\n",
       "<table border=\"1\" class=\"dataframe\">\n",
       "  <thead>\n",
       "    <tr style=\"text-align: right;\">\n",
       "      <th></th>\n",
       "      <th>2009</th>\n",
       "      <th>2010</th>\n",
       "      <th>2011</th>\n",
       "      <th>2012</th>\n",
       "    </tr>\n",
       "  </thead>\n",
       "  <tbody>\n",
       "    <tr>\n",
       "      <td>Currency</td>\n",
       "      <td>950</td>\n",
       "      <td>960</td>\n",
       "      <td>962</td>\n",
       "      <td>967</td>\n",
       "    </tr>\n",
       "    <tr>\n",
       "      <td>Money market mutual fund shares</td>\n",
       "      <td>677</td>\n",
       "      <td>678</td>\n",
       "      <td>676</td>\n",
       "      <td>685</td>\n",
       "    </tr>\n",
       "    <tr>\n",
       "      <td>Saving account deposits</td>\n",
       "      <td>5600</td>\n",
       "      <td>5880</td>\n",
       "      <td>6068</td>\n",
       "      <td>6205</td>\n",
       "    </tr>\n",
       "    <tr>\n",
       "      <td>Money market deposit accounts</td>\n",
       "      <td>1200</td>\n",
       "      <td>1231</td>\n",
       "      <td>1260</td>\n",
       "      <td>1315</td>\n",
       "    </tr>\n",
       "    <tr>\n",
       "      <td>Demand and checkable deposits</td>\n",
       "      <td>1010</td>\n",
       "      <td>982</td>\n",
       "      <td>990</td>\n",
       "      <td>1003</td>\n",
       "    </tr>\n",
       "    <tr>\n",
       "      <td>Small-denomination time deposits</td>\n",
       "      <td>830</td>\n",
       "      <td>861</td>\n",
       "      <td>1123</td>\n",
       "      <td>1566</td>\n",
       "    </tr>\n",
       "    <tr>\n",
       "      <td>Traveler’s checks</td>\n",
       "      <td>4</td>\n",
       "      <td>4</td>\n",
       "      <td>3</td>\n",
       "      <td>2</td>\n",
       "    </tr>\n",
       "  </tbody>\n",
       "</table>\n",
       "</div>"
      ],
      "text/plain": [
       "                                  2009  2010  2011  2012\n",
       "Currency                           950   960   962   967\n",
       "Money market mutual fund shares    677   678   676   685\n",
       "Saving account deposits           5600  5880  6068  6205\n",
       "Money market deposit accounts     1200  1231  1260  1315\n",
       "Demand and checkable deposits     1010   982   990  1003\n",
       "Small-denomination time deposits   830   861  1123  1566\n",
       "Traveler’s checks                    4     4     3     2"
      ]
     },
     "execution_count": 41,
     "metadata": {},
     "output_type": "execute_result"
    }
   ],
   "source": [
    "M2_df = df.loc[~df.index.isin([\"3-month Treasury bills\"])]\n",
    "M2_df"
   ]
  },
  {
   "cell_type": "code",
   "execution_count": 45,
   "metadata": {},
   "outputs": [
    {
     "data": {
      "text/plain": [
       "2009    10271\n",
       "2010    10596\n",
       "2011    11082\n",
       "2012    11743\n",
       "dtype: int64"
      ]
     },
     "execution_count": 45,
     "metadata": {},
     "output_type": "execute_result"
    }
   ],
   "source": [
    "M2_df.sum()"
   ]
  },
  {
   "cell_type": "code",
   "execution_count": 53,
   "metadata": {},
   "outputs": [
    {
     "data": {
      "text/plain": [
       "2009         NaN\n",
       "2010    0.031642\n",
       "2011    0.045866\n",
       "2012    0.059646\n",
       "dtype: float64"
      ]
     },
     "execution_count": 53,
     "metadata": {},
     "output_type": "execute_result"
    }
   ],
   "source": [
    "# M2 growth rate\n",
    "M2_df.sum().pct_change()"
   ]
  },
  {
   "cell_type": "markdown",
   "metadata": {},
   "source": [
    "M2 is broder than M1(1972 / 11743 = 0.17)."
   ]
  },
  {
   "cell_type": "markdown",
   "metadata": {},
   "source": [
    "## Data analysis problems\n",
    "\n",
    "1. Go to the St. Louis Federal Reserve FRED database, and find data on currency (CURRSL), traveler’s checks (TVCKSSL), demand deposits (DEMDEPSL), and other checkable deposits (OCDSL). Calculate the M1 money supply, and calculate the percentage change in M1 and in each of the four components of M1 from the most recent month of data available to the same time one year prior. Which component has the highest growth rate? The lowest growth rate? Repeat the calculations using the data from January 2000 to the most recent month of data available, and compare your results."
   ]
  },
  {
   "cell_type": "code",
   "execution_count": 62,
   "metadata": {},
   "outputs": [],
   "source": [
    "CURRSL_df   = pd.read_csv(\"https://fred.stlouisfed.org/graph/fredgraph.csv?bgcolor=%23e1e9f0&chart_type=line&drp=0&fo=open%20sans&graph_bgcolor=%23ffffff&height=450&mode=fred&recession_bars=on&txtcolor=%23444444&ts=12&tts=12&width=1168&nt=0&thu=0&trc=0&show_legend=yes&show_axis_titles=yes&show_tooltip=yes&id=CURRSL&scale=left&cosd=1947-01-01&coed=2020-01-01&line_color=%234572a7&link_values=false&line_style=solid&mark_type=none&mw=3&lw=2&ost=-99999&oet=99999&mma=0&fml=a&fq=Monthly&fam=avg&fgst=lin&fgsnd=2009-06-01&line_index=1&transformation=lin&vintage_date=2020-03-08&revision_date=2020-03-08&nd=1947-01-01\")\n",
    "TVCKSSL_df  = pd.read_csv(\"https://fred.stlouisfed.org/graph/fredgraph.csv?bgcolor=%23e1e9f0&chart_type=line&drp=0&fo=open%20sans&graph_bgcolor=%23ffffff&height=450&mode=fred&recession_bars=on&txtcolor=%23444444&ts=12&tts=12&width=1168&nt=0&thu=0&trc=0&show_legend=yes&show_axis_titles=yes&show_tooltip=yes&id=TVCKSSL&scale=left&cosd=1959-01-01&coed=2018-12-01&line_color=%234572a7&link_values=false&line_style=solid&mark_type=none&mw=3&lw=2&ost=-99999&oet=99999&mma=0&fml=a&fq=Monthly&fam=avg&fgst=lin&fgsnd=2009-06-01&line_index=1&transformation=lin&vintage_date=2020-03-08&revision_date=2020-03-08&nd=1959-01-01\")\n",
    "DEMDEPSL_df = pd.read_csv(\"https://fred.stlouisfed.org/graph/fredgraph.csv?bgcolor=%23e1e9f0&chart_type=line&drp=0&fo=open%20sans&graph_bgcolor=%23ffffff&height=450&mode=fred&recession_bars=on&txtcolor=%23444444&ts=12&tts=12&width=1168&nt=0&thu=0&trc=0&show_legend=yes&show_axis_titles=yes&show_tooltip=yes&id=DEMDEPSL&scale=left&cosd=1959-01-01&coed=2020-01-01&line_color=%234572a7&link_values=false&line_style=solid&mark_type=none&mw=3&lw=2&ost=-99999&oet=99999&mma=0&fml=a&fq=Monthly&fam=avg&fgst=lin&fgsnd=2009-06-01&line_index=1&transformation=lin&vintage_date=2020-03-08&revision_date=2020-03-08&nd=1959-01-01\")\n",
    "OCDSL_df    = pd.read_csv(\"https://fred.stlouisfed.org/graph/fredgraph.csv?bgcolor=%23e1e9f0&chart_type=line&drp=0&fo=open%20sans&graph_bgcolor=%23ffffff&height=450&mode=fred&recession_bars=on&txtcolor=%23444444&ts=12&tts=12&width=1168&nt=0&thu=0&trc=0&show_legend=yes&show_axis_titles=yes&show_tooltip=yes&id=OCDSL&scale=left&cosd=1963-01-01&coed=2020-01-01&line_color=%234572a7&link_values=false&line_style=solid&mark_type=none&mw=3&lw=2&ost=-99999&oet=99999&mma=0&fml=a&fq=Monthly&fam=avg&fgst=lin&fgsnd=2009-06-01&line_index=1&transformation=lin&vintage_date=2020-03-08&revision_date=2020-03-08&nd=1963-01-01\")"
   ]
  },
  {
   "cell_type": "code",
   "execution_count": 89,
   "metadata": {},
   "outputs": [
    {
     "data": {
      "text/plain": [
       "'2018-12-01'"
      ]
     },
     "execution_count": 89,
     "metadata": {},
     "output_type": "execute_result"
    }
   ],
   "source": [
    "most_recent_month = min(CURRSL_df.tail(1).iat[0, 0], TVCKSSL_df.tail(1).iat[0, 0],\n",
    "                        DEMDEPSL_df.tail(1).iat[0, 0], OCDSL_df.tail(1).iat[0, 0])\n",
    "most_recent_month"
   ]
  },
  {
   "cell_type": "code",
   "execution_count": 130,
   "metadata": {},
   "outputs": [
    {
     "data": {
      "text/plain": [
       "3746.5"
      ]
     },
     "execution_count": 130,
     "metadata": {},
     "output_type": "execute_result"
    }
   ],
   "source": [
    "most_recent_CURRSL   = CURRSL_df.loc[CURRSL_df[\"DATE\"]     == most_recent_month].iat[0, 1]\n",
    "most_recent_TVCKSSL  = TVCKSSL_df.loc[TVCKSSL_df[\"DATE\"]   == most_recent_month].iat[0, 1]\n",
    "most_recent_DEMDEPSL = DEMDEPSL_df.loc[DEMDEPSL_df[\"DATE\"] == most_recent_month].iat[0, 1]\n",
    "most_recent_OCDSL    = OCDSL_df.loc[OCDSL_df[\"DATE\"]       == most_recent_month].iat[0, 1]\n",
    "\n",
    "most_recent_M1 = most_recent_CURRSL   + \\\n",
    "                 most_recent_TVCKSSL  + \\\n",
    "                 most_recent_DEMDEPSL + \\\n",
    "                 most_recent_OCDSL \n",
    "most_recent_M1"
   ]
  },
  {
   "cell_type": "code",
   "execution_count": 124,
   "metadata": {},
   "outputs": [
    {
     "data": {
      "text/plain": [
       "'2017-12-01'"
      ]
     },
     "execution_count": 124,
     "metadata": {},
     "output_type": "execute_result"
    }
   ],
   "source": [
    "previous_year = str((int(most_recent_month[:4]) - 1)) + most_recent_month[4:]\n",
    "previous_year"
   ]
  },
  {
   "cell_type": "code",
   "execution_count": 131,
   "metadata": {},
   "outputs": [
    {
     "data": {
      "text/plain": [
       "3607.3"
      ]
     },
     "execution_count": 131,
     "metadata": {},
     "output_type": "execute_result"
    }
   ],
   "source": [
    "previous_year_CURRSL   = CURRSL_df.loc[CURRSL_df[\"DATE\"]     == previous_year].iat[0, 1]\n",
    "previous_year_TVCKSSL  = TVCKSSL_df.loc[TVCKSSL_df[\"DATE\"]   == previous_year].iat[0, 1]\n",
    "previous_year_DEMDEPSL = DEMDEPSL_df.loc[DEMDEPSL_df[\"DATE\"] == previous_year].iat[0, 1]\n",
    "previous_year_OCDSL    = OCDSL_df.loc[OCDSL_df[\"DATE\"]       == previous_year].iat[0, 1]\n",
    "\n",
    "previous_year_M1 = previous_year_CURRSL   + \\\n",
    "                   previous_year_TVCKSSL  + \\\n",
    "                   previous_year_DEMDEPSL + \\\n",
    "                   previous_year_OCDSL\n",
    "previous_year_M1"
   ]
  },
  {
   "cell_type": "code",
   "execution_count": 132,
   "metadata": {},
   "outputs": [
    {
     "data": {
      "text/plain": [
       "0.038588417930307935"
      ]
     },
     "execution_count": 132,
     "metadata": {},
     "output_type": "execute_result"
    }
   ],
   "source": [
    "# M1 grow rate\n",
    "(most_recent_M1 - previous_year_M1) / previous_year_M1"
   ]
  },
  {
   "cell_type": "code",
   "execution_count": 133,
   "metadata": {},
   "outputs": [
    {
     "data": {
      "text/plain": [
       "0.06544262295081964"
      ]
     },
     "execution_count": 133,
     "metadata": {},
     "output_type": "execute_result"
    }
   ],
   "source": [
    "# currency grow rate\n",
    "(most_recent_CURRSL - previous_year_CURRSL) / previous_year_CURRSL"
   ]
  },
  {
   "cell_type": "code",
   "execution_count": 134,
   "metadata": {},
   "outputs": [
    {
     "data": {
      "text/plain": [
       "-0.10526315789473682"
      ]
     },
     "execution_count": 134,
     "metadata": {},
     "output_type": "execute_result"
    }
   ],
   "source": [
    "# traveler’s checks grow rate\n",
    "(most_recent_TVCKSSL - previous_year_TVCKSSL) / previous_year_TVCKSSL"
   ]
  },
  {
   "cell_type": "code",
   "execution_count": 135,
   "metadata": {},
   "outputs": [
    {
     "data": {
      "text/plain": [
       "0.003967720242098245"
      ]
     },
     "execution_count": 135,
     "metadata": {},
     "output_type": "execute_result"
    }
   ],
   "source": [
    "# demand deposits grow rate\n",
    "(most_recent_DEMDEPSL - previous_year_DEMDEPSL) / previous_year_DEMDEPSL"
   ]
  },
  {
   "cell_type": "code",
   "execution_count": 136,
   "metadata": {},
   "outputs": [
    {
     "data": {
      "text/plain": [
       "0.056791371755982555"
      ]
     },
     "execution_count": 136,
     "metadata": {},
     "output_type": "execute_result"
    }
   ],
   "source": [
    "# other checkable deposits grow rate\n",
    "(most_recent_OCDSL - previous_year_OCDSL) / previous_year_OCDSL "
   ]
  },
  {
   "cell_type": "markdown",
   "metadata": {},
   "source": [
    "From the most recent month to the same time one year prior, currency has the highest growth rate(0.065), traveler’s checks has the lowest(-0.105)."
   ]
  },
  {
   "cell_type": "code",
   "execution_count": 137,
   "metadata": {},
   "outputs": [
    {
     "data": {
      "text/plain": [
       "1122.1000000000001"
      ]
     },
     "execution_count": 137,
     "metadata": {},
     "output_type": "execute_result"
    }
   ],
   "source": [
    "January_2000 = \"2000-01-01\"\n",
    "\n",
    "January_2000_CURRSL   = CURRSL_df.loc[CURRSL_df[\"DATE\"]     == January_2000].iat[0, 1]\n",
    "January_2000_TVCKSSL  = TVCKSSL_df.loc[TVCKSSL_df[\"DATE\"]   == January_2000].iat[0, 1]\n",
    "January_2000_DEMDEPSL = DEMDEPSL_df.loc[DEMDEPSL_df[\"DATE\"] == January_2000].iat[0, 1]\n",
    "January_2000_OCDSL    = OCDSL_df.loc[OCDSL_df[\"DATE\"]       == January_2000].iat[0, 1]\n",
    "\n",
    "January_2000_M1 =  January_2000_CURRSL   + \\\n",
    "                   January_2000_TVCKSSL  + \\\n",
    "                   January_2000_DEMDEPSL + \\\n",
    "                   January_2000_OCDSL\n",
    "January_2000_M1"
   ]
  },
  {
   "cell_type": "code",
   "execution_count": 138,
   "metadata": {},
   "outputs": [
    {
     "data": {
      "text/plain": [
       "2.3388289813742085"
      ]
     },
     "execution_count": 138,
     "metadata": {},
     "output_type": "execute_result"
    }
   ],
   "source": [
    "# M1 grow rate\n",
    "(most_recent_M1 - January_2000_M1) / January_2000_M1"
   ]
  },
  {
   "cell_type": "code",
   "execution_count": 139,
   "metadata": {},
   "outputs": [
    {
     "data": {
      "text/plain": [
       "2.095446751762241"
      ]
     },
     "execution_count": 139,
     "metadata": {},
     "output_type": "execute_result"
    }
   ],
   "source": [
    "# currency grow rate\n",
    "(most_recent_CURRSL - January_2000_CURRSL) / January_2000_CURRSL"
   ]
  },
  {
   "cell_type": "code",
   "execution_count": 140,
   "metadata": {},
   "outputs": [
    {
     "data": {
      "text/plain": [
       "-0.7999999999999999"
      ]
     },
     "execution_count": 140,
     "metadata": {},
     "output_type": "execute_result"
    }
   ],
   "source": [
    "# traveler’s checks grow rate\n",
    "(most_recent_TVCKSSL - January_2000_TVCKSSL) / January_2000_TVCKSSL"
   ]
  },
  {
   "cell_type": "code",
   "execution_count": 141,
   "metadata": {},
   "outputs": [
    {
     "data": {
      "text/plain": [
       "3.311002021368756"
      ]
     },
     "execution_count": 141,
     "metadata": {},
     "output_type": "execute_result"
    }
   ],
   "source": [
    "# demand deposits grow rate\n",
    "(most_recent_DEMDEPSL - January_2000_DEMDEPSL) / January_2000_DEMDEPSL"
   ]
  },
  {
   "cell_type": "code",
   "execution_count": 142,
   "metadata": {},
   "outputs": [
    {
     "data": {
      "text/plain": [
       "1.587046204620462"
      ]
     },
     "execution_count": 142,
     "metadata": {},
     "output_type": "execute_result"
    }
   ],
   "source": [
    "# other checkable deposits grow rate\n",
    "(most_recent_OCDSL - January_2000_OCDSL) / January_2000_OCDSL"
   ]
  },
  {
   "cell_type": "markdown",
   "metadata": {},
   "source": [
    "From the most recent month to the January 2000, demand deposits has the highest growth rate(3.311), traveler’s checks has the lowest(-0.800)."
   ]
  },
  {
   "cell_type": "markdown",
   "metadata": {},
   "source": [
    "2. Go to the St. Louis Federal Reserve FRED database, and find data on small-denomination time deposits (STDSL), savings deposits and money market deposit accounts (SAVINGSL), and retail money market funds (RMFSL). Calculate the percentage change of each of these three components of M2 (not included in M1) from the most recent month of data available to the same time one year prior. Which component has the highest growth rate? The lowest growth rate? Repeat the calculations using the data from January 2000 to the most recent month of data available, and compare your results. Use your answers from question 1 to determine which grew faster: the non-M1 components of M2, or the M1 money supply."
   ]
  },
  {
   "cell_type": "code",
   "execution_count": 162,
   "metadata": {},
   "outputs": [],
   "source": [
    "STDSL_df    = pd.read_csv(\"https://fred.stlouisfed.org/graph/fredgraph.csv?bgcolor=%23e1e9f0&chart_type=line&drp=0&fo=open%20sans&graph_bgcolor=%23ffffff&height=450&mode=fred&recession_bars=on&txtcolor=%23444444&ts=12&tts=12&width=1168&nt=0&thu=0&trc=0&show_legend=yes&show_axis_titles=yes&show_tooltip=yes&id=STDSL&scale=left&cosd=1959-01-01&coed=2020-01-01&line_color=%234572a7&link_values=false&line_style=solid&mark_type=none&mw=3&lw=2&ost=-99999&oet=99999&mma=0&fml=a&fq=Monthly&fam=avg&fgst=lin&fgsnd=2009-06-01&line_index=1&transformation=lin&vintage_date=2020-03-09&revision_date=2020-03-09&nd=1959-01-01\")\n",
    "SAVINGSL_df = pd.read_csv(\"https://fred.stlouisfed.org/graph/fredgraph.csv?bgcolor=%23e1e9f0&chart_type=line&drp=0&fo=open%20sans&graph_bgcolor=%23ffffff&height=450&mode=fred&recession_bars=on&txtcolor=%23444444&ts=12&tts=12&width=1168&nt=0&thu=0&trc=0&show_legend=yes&show_axis_titles=yes&show_tooltip=yes&id=SAVINGSL&scale=left&cosd=1959-01-01&coed=2020-01-01&line_color=%234572a7&link_values=false&line_style=solid&mark_type=none&mw=3&lw=2&ost=-99999&oet=99999&mma=0&fml=a&fq=Monthly&fam=avg&fgst=lin&fgsnd=2009-06-01&line_index=1&transformation=lin&vintage_date=2020-03-09&revision_date=2020-03-09&nd=1959-01-01\")\n",
    "RMFSL_df    = pd.read_csv(\"https://fred.stlouisfed.org/graph/fredgraph.csv?bgcolor=%23e1e9f0&chart_type=line&drp=0&fo=open%20sans&graph_bgcolor=%23ffffff&height=450&mode=fred&recession_bars=on&txtcolor=%23444444&ts=12&tts=12&width=1168&nt=0&thu=0&trc=0&show_legend=yes&show_axis_titles=yes&show_tooltip=yes&id=RMFSL&scale=left&cosd=1973-11-01&coed=2020-01-01&line_color=%234572a7&link_values=false&line_style=solid&mark_type=none&mw=3&lw=2&ost=-99999&oet=99999&mma=0&fml=a&fq=Monthly&fam=avg&fgst=lin&fgsnd=2009-06-01&line_index=1&transformation=lin&vintage_date=2020-03-09&revision_date=2020-03-09&nd=1973-11-01\")\n",
    "\n",
    "most_recent_STDSL    = STDSL_df.loc[STDSL_df[\"DATE\"]       == most_recent_month].iat[0, 1]\n",
    "most_recent_SAVINGSL = SAVINGSL_df.loc[SAVINGSL_df[\"DATE\"] == most_recent_month].iat[0, 1]\n",
    "most_recent_RMFSL    = RMFSL_df.loc[RMFSL_df[\"DATE\"]       == most_recent_month].iat[0, 1]\n",
    "\n",
    "previous_year_STDSL    = STDSL_df.loc[STDSL_df[\"DATE\"]       == previous_year].iat[0, 1]\n",
    "previous_year_SAVINGSL = SAVINGSL_df.loc[SAVINGSL_df[\"DATE\"] == previous_year].iat[0, 1]\n",
    "previous_year_RMFSL    = RMFSL_df.loc[RMFSL_df[\"DATE\"]       == previous_year].iat[0, 1]\n",
    "\n",
    "January_2000_STDSL    = STDSL_df.loc[STDSL_df[\"DATE\"]       == January_2000].iat[0, 1]\n",
    "January_2000_SAVINGSL = SAVINGSL_df.loc[SAVINGSL_df[\"DATE\"] == January_2000].iat[0, 1]\n",
    "January_2000_RMFSL    = RMFSL_df.loc[RMFSL_df[\"DATE\"]       == January_2000].iat[0, 1]"
   ]
  },
  {
   "cell_type": "code",
   "execution_count": 164,
   "metadata": {},
   "outputs": [
    {
     "data": {
      "text/plain": [
       "0.2868872253078965"
      ]
     },
     "execution_count": 164,
     "metadata": {},
     "output_type": "execute_result"
    }
   ],
   "source": [
    "# small-denomination time deposits growth rate\n",
    "(most_recent_STDSL - previous_year_STDSL) / previous_year_STDSL"
   ]
  },
  {
   "cell_type": "code",
   "execution_count": 165,
   "metadata": {},
   "outputs": [
    {
     "data": {
      "text/plain": [
       "0.08647220946256337"
      ]
     },
     "execution_count": 165,
     "metadata": {},
     "output_type": "execute_result"
    }
   ],
   "source": [
    "# savings deposits and money market deposit accounts growth rate\n",
    "(most_recent_SAVINGSL - previous_year_SAVINGSL) / January_2000_SAVINGSL"
   ]
  },
  {
   "cell_type": "code",
   "execution_count": 166,
   "metadata": {},
   "outputs": [
    {
     "data": {
      "text/plain": [
       "0.15302642796248941"
      ]
     },
     "execution_count": 166,
     "metadata": {},
     "output_type": "execute_result"
    }
   ],
   "source": [
    "# retail money market funds growth rate\n",
    "(most_recent_RMFSL - previous_year_RMFSL) / previous_year_RMFSL "
   ]
  },
  {
   "cell_type": "markdown",
   "metadata": {},
   "source": [
    "From the most recent month to the same time one year prior, small-denomination time deposits has the highest growth rate(0.287), savings deposits and money market deposit accounts has the lowest(0.153)."
   ]
  },
  {
   "cell_type": "code",
   "execution_count": 144,
   "metadata": {},
   "outputs": [
    {
     "data": {
      "text/plain": [
       "-0.4468548889350218"
      ]
     },
     "execution_count": 144,
     "metadata": {},
     "output_type": "execute_result"
    }
   ],
   "source": [
    "# small-denomination time deposits growth rate\n",
    "(most_recent_STDSL - January_2000_STDSL) / January_2000_STDSL"
   ]
  },
  {
   "cell_type": "code",
   "execution_count": 145,
   "metadata": {},
   "outputs": [
    {
     "data": {
      "text/plain": [
       "4.3174666972898486"
      ]
     },
     "execution_count": 145,
     "metadata": {},
     "output_type": "execute_result"
    }
   ],
   "source": [
    "# savings deposits and money market deposit accounts growth rate\n",
    "(most_recent_SAVINGSL - January_2000_SAVINGSL) / January_2000_SAVINGSL"
   ]
  },
  {
   "cell_type": "code",
   "execution_count": 146,
   "metadata": {},
   "outputs": [
    {
     "data": {
      "text/plain": [
       "-0.020637219406227397"
      ]
     },
     "execution_count": 146,
     "metadata": {},
     "output_type": "execute_result"
    }
   ],
   "source": [
    "# retail money market funds growth rate\n",
    "(most_recent_RMFSL - January_2000_RMFSL) / January_2000_RMFSL "
   ]
  },
  {
   "cell_type": "markdown",
   "metadata": {},
   "source": [
    "From the most recent month to the January 2000, savings deposits and money market deposit accounts has the highest growth rate(4.317), small-denomination time deposits has the lowest(-0.447).\n",
    "\n",
    "The non-M1 components of M2 grows faster."
   ]
  }
 ],
 "metadata": {
  "kernelspec": {
   "display_name": "Python 3",
   "language": "python",
   "name": "python3"
  },
  "language_info": {
   "codemirror_mode": {
    "name": "ipython",
    "version": 3
   },
   "file_extension": ".py",
   "mimetype": "text/x-python",
   "name": "python",
   "nbconvert_exporter": "python",
   "pygments_lexer": "ipython3",
   "version": "3.7.4"
  }
 },
 "nbformat": 4,
 "nbformat_minor": 4
}
