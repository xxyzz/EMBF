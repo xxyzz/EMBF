{
 "cells": [
  {
   "cell_type": "markdown",
   "metadata": {},
   "source": [
    "# What is money?\n",
    "\n",
    "## Questions\n",
    "\n",
    "1. Why is simply counting currency an inadequate measure of money?\n",
    "\n",
    "    Checks, checking account deposits and wealth also count as money.\n",
    "\n",
    "2. In prison, cigarettes are sometimes used among inmates as a form of payment. How is it possible for cigarettes to solve the “double coincidence of wants” problem, even if a prisoner does not smoke?\n",
    "\n",
    "    As long as cigarettes can exchange anything, have storage value and as an unit of account, they become money.\n",
    "\n",
    "3. Three goods are produced in an economy by three individuals:\n",
    "\n",
    "| *Good* | *Producer* |\n",
    "| --- | ---: |\n",
    "| Apples | Orchard owner |\n",
    "| Bananas | Banana grower |\n",
    "| Chocolate | Chocolatier |\n",
    "\n",
    "    If the orchard owner likes only bananas, the banana grower likes only chocolate, and the chocolatier likes only apples, will any trade between these three persons take place in a barter economy? How will introducing money into the economy benefit these three producers?\n",
    "    \n",
    "    No. They don't need to waste time on finding \"double coincidence of wants\".\n",
    "    \n",
    "4. Why did cavemen not need money?\n",
    "\n",
    "    They don't have much things to exchange.\n",
    "    \n",
    "5. Most of the time it is quite difficult to separate the three functions of money. Money performs its three functions at all times, but sometimes we can stress one in particular. For each of the following situations, identify which function of money is emphasized.\n",
    "\n",
    "    a. Brooke accepts money in exchange for performing her daily tasks at her office, since she knows she can use that money to buy goods and services.\n",
    "    \n",
    "    b. Tim wants to calculate the relative value of oranges and apples, and therefore checks the price per pound of each of these goods as quoted in currency units.\n",
    "    \n",
    "    c. Maria is currently pregnant. She expects her expenditures to increase in the future and decides to increase the balance in her savings account.\n",
    "    \n",
    "    a: medium of exchange\n",
    "    \n",
    "    b: unit of account\n",
    "    \n",
    "    c: store of value"
   ]
  }
 ],
 "metadata": {
  "kernelspec": {
   "display_name": "Python 3",
   "language": "python",
   "name": "python3"
  },
  "language_info": {
   "codemirror_mode": {
    "name": "ipython",
    "version": 3
   },
   "file_extension": ".py",
   "mimetype": "text/x-python",
   "name": "python",
   "nbconvert_exporter": "python",
   "pygments_lexer": "ipython3",
   "version": "3.7.4"
  }
 },
 "nbformat": 4,
 "nbformat_minor": 4
}
